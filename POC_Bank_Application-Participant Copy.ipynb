{
 "cells": [
  {
   "cell_type": "markdown",
   "metadata": {
    "id": "gADr7oELX9vi"
   },
   "source": [
    "## Classification Problem : Bank Marketing"
   ]
  },
  {
   "cell_type": "markdown",
   "metadata": {
    "id": "-I0ZGFV9X9vs"
   },
   "source": [
    "### Problem Description - Bank Marketing Decision\n",
    "\n",
    "Our goal is to find the clients before call whether they would subscribe to the product (bank term deposit), ('yes') or not ('no').\n",
    "\n",
    "    The data is related with direct marketing campaigns of a banking institution\n",
    "    The marketing campaigns were based on phone calls\n",
    "    Often, more than one contact to the same client was required"
   ]
  },
  {
   "cell_type": "markdown",
   "metadata": {
    "id": "hfHtE5GGX9vw"
   },
   "source": [
    "#### Data\n",
    "\n",
    "    age: age of the Client (numeric)\n",
    "    \n",
    "    job: type of job (categorical: 'admin.','blue collar','entrepreneur','housemaid','management','retired','self employed','services','student','technician','unemployed','unknown')\n",
    "    \n",
    "    marital: marital status (categorical: 'divorced','married','single','unknown'; note: 'divorced' means                       divorced or widowed)\n",
    "    \n",
    "    education:   (categorical:'basic.4y','basic.6y','basic.9y','high.school','illiterate','professional.course','university.degree','unknown')\n",
    "    \n",
    "    default: has credit in default? (categorical: 'no','yes','unknown')\n",
    "    \n",
    "    housing: has housing loan? (categorical: 'no','yes','unknown')\n",
    "    \n",
    "    loan: has personal loan? (categorical: 'no','yes','unknown')\n",
    "    \n",
    "    contact: contact communication type (categorical: 'cellular','telephone')\n",
    "    \n",
    "    month: last contact month of year (categorical: 'jan', 'feb', 'mar', ..., 'nov', 'dec')\n",
    "    \n",
    "    day_of_week: last contact day of the week (categorical: 'mon','tue','wed','thu','fri')\n",
    "    \n",
    "    duration: last contact duration, in seconds (numeric)\n",
    "    \n",
    "    campaign: number of contacts performed during this campaign and for this client (numeric, includes last                     contact)\n",
    "    \n",
    "    pdays: number of days that passed by after the client was last contacted from a previous campaign (numeric;              999 means client was not previously contacted)\n",
    "    \n",
    "    previous: number of contacts performed before this campaign and for this client (numeric)\n",
    "    \n",
    "    poutcome: outcome of the previous marketing campaign (categorical: 'failure','nonexistent','success')social                 and economic context attributes\n",
    "    \n",
    "    emp.var.rate: employment variation rate quarterly indicator (numeric)\n",
    "    \n",
    "    cons.price.idx: consumer price index monthly indicator (numeric)\n",
    "    \n",
    "    cons.conf.idx: consumer confidence index monthly indicator (numeric)\n",
    "    \n",
    "    euribor3m: euribor 3 month rate - daily indicator (numeric)\n",
    "    \n",
    "    nr.employed: number of employees quarterly indicator (numeric)"
   ]
  },
  {
   "cell_type": "markdown",
   "metadata": {
    "id": "herbhhfNX9vz"
   },
   "source": [
    "#### Objective\n",
    "\n",
    "Predict whether a customer will subscribe to the product or not. \n",
    "\n",
    "        Supervised learning --> Classification --> Binary Classification. "
   ]
  },
  {
   "cell_type": "markdown",
   "metadata": {
    "id": "oX6cibg8X9v3"
   },
   "source": [
    "### Import all required libraries"
   ]
  },
  {
   "cell_type": "code",
   "execution_count": 1,
   "metadata": {
    "executionInfo": {
     "elapsed": 593,
     "status": "ok",
     "timestamp": 1642163948604,
     "user": {
      "displayName": "Jeevan Sreerama",
      "photoUrl": "https://lh3.googleusercontent.com/a-/AOh14GinrN0XJfqrOGb9VC-PfSBH_66Lau5TdzofJcZ3ew=s64",
      "userId": "17379383429363801241"
     },
     "user_tz": -330
    },
    "id": "dueuADqiX9v5"
   },
   "outputs": [],
   "source": [
    "import os\n",
    "import numpy as np\n",
    "import pandas as pd\n",
    "\n",
    "from sklearn.preprocessing import StandardScaler, OneHotEncoder, LabelEncoder\n",
    "\n",
    "from sklearn.model_selection import train_test_split, GridSearchCV\n",
    "\n",
    "from sklearn.metrics import confusion_matrix, accuracy_score\n",
    "\n",
    "from sklearn.linear_model import LogisticRegression\n",
    "from sklearn.svm import SVC\n",
    "from sklearn.tree import DecisionTreeClassifier\n",
    "from sklearn.ensemble import RandomForestClassifier\n",
    "from sklearn.ensemble import AdaBoostClassifier\n",
    "from sklearn.ensemble import GradientBoostingClassifier\n",
    "from xgboost import XGBClassifier\n",
    "\n",
    "import warnings\n",
    "warnings.filterwarnings('ignore')"
   ]
  },
  {
   "cell_type": "markdown",
   "metadata": {
    "id": "KxfOfkXrX9v8"
   },
   "source": [
    "#### Set the Current working directory"
   ]
  },
  {
   "cell_type": "code",
   "execution_count": 2,
   "metadata": {
    "executionInfo": {
     "elapsed": 385,
     "status": "ok",
     "timestamp": 1642163970180,
     "user": {
      "displayName": "Jeevan Sreerama",
      "photoUrl": "https://lh3.googleusercontent.com/a-/AOh14GinrN0XJfqrOGb9VC-PfSBH_66Lau5TdzofJcZ3ew=s64",
      "userId": "17379383429363801241"
     },
     "user_tz": -330
    },
    "id": "glzOgn6pX9v_"
   },
   "outputs": [],
   "source": [
    "PATH = os.getcwd()\n",
    "DATA_FILE = os.path.join(PATH, \"bank_data.csv\")"
   ]
  },
  {
   "cell_type": "markdown",
   "metadata": {
    "id": "ErsXUfFWX9wB"
   },
   "source": [
    "### Load the data"
   ]
  },
  {
   "cell_type": "code",
   "execution_count": 3,
   "metadata": {
    "id": "MHDKGTdmX9wH"
   },
   "outputs": [],
   "source": [
    "data = "
   ]
  },
  {
   "cell_type": "markdown",
   "metadata": {
    "id": "oSagySrtX9wL"
   },
   "source": [
    "### Understanding the data"
   ]
  },
  {
   "cell_type": "markdown",
   "metadata": {
    "id": "D4Fxxi7gX9wO"
   },
   "source": [
    "#### Number of rows and columns"
   ]
  },
  {
   "cell_type": "code",
   "execution_count": 4,
   "metadata": {
    "id": "xVuJwe9vX9wQ",
    "outputId": "5e5428a3-4f71-4904-9f62-bbfffc670e3a",
    "scrolled": true
   },
   "outputs": [
    {
     "data": {
      "text/plain": [
       "(41188, 21)"
      ]
     },
     "execution_count": 4,
     "metadata": {},
     "output_type": "execute_result"
    }
   ],
   "source": []
  },
  {
   "cell_type": "markdown",
   "metadata": {
    "id": "wieGjShyX9wT"
   },
   "source": [
    "#### Column or Attribute names"
   ]
  },
  {
   "cell_type": "code",
   "execution_count": 5,
   "metadata": {
    "id": "yJmsPhiOX9wT",
    "outputId": "0c9d7ece-2288-4d1c-b140-7a97881cc041"
   },
   "outputs": [
    {
     "data": {
      "text/plain": [
       "Index(['age', 'job', 'marital', 'education', 'credit_default', 'housing',\n",
       "       'loan', 'contact', 'contacted_month', 'day_of_week', 'duration',\n",
       "       'compaign', 'pdays', 'previous', 'poutcome', 'emp_var_rate',\n",
       "       'cons_price_idx', 'cons_conf_idx', 'euribor3m', 'nr_employees', 'y'],\n",
       "      dtype='object')"
      ]
     },
     "execution_count": 5,
     "metadata": {},
     "output_type": "execute_result"
    }
   ],
   "source": []
  },
  {
   "cell_type": "markdown",
   "metadata": {
    "id": "Ezqc95dqX9wU"
   },
   "source": [
    "#### Display first 5 and last 5 records"
   ]
  },
  {
   "cell_type": "code",
   "execution_count": 6,
   "metadata": {
    "id": "zwa2GPopX9wV",
    "outputId": "3b9cea1b-9fec-40f3-a107-a9fc98cce6bd"
   },
   "outputs": [
    {
     "data": {
      "text/html": [
       "<div>\n",
       "<style scoped>\n",
       "    .dataframe tbody tr th:only-of-type {\n",
       "        vertical-align: middle;\n",
       "    }\n",
       "\n",
       "    .dataframe tbody tr th {\n",
       "        vertical-align: top;\n",
       "    }\n",
       "\n",
       "    .dataframe thead th {\n",
       "        text-align: right;\n",
       "    }\n",
       "</style>\n",
       "<table border=\"1\" class=\"dataframe\">\n",
       "  <thead>\n",
       "    <tr style=\"text-align: right;\">\n",
       "      <th></th>\n",
       "      <th>age</th>\n",
       "      <th>job</th>\n",
       "      <th>marital</th>\n",
       "      <th>education</th>\n",
       "      <th>credit_default</th>\n",
       "      <th>housing</th>\n",
       "      <th>loan</th>\n",
       "      <th>contact</th>\n",
       "      <th>contacted_month</th>\n",
       "      <th>day_of_week</th>\n",
       "      <th>...</th>\n",
       "      <th>compaign</th>\n",
       "      <th>pdays</th>\n",
       "      <th>previous</th>\n",
       "      <th>poutcome</th>\n",
       "      <th>emp_var_rate</th>\n",
       "      <th>cons_price_idx</th>\n",
       "      <th>cons_conf_idx</th>\n",
       "      <th>euribor3m</th>\n",
       "      <th>nr_employees</th>\n",
       "      <th>y</th>\n",
       "    </tr>\n",
       "  </thead>\n",
       "  <tbody>\n",
       "    <tr>\n",
       "      <th>0</th>\n",
       "      <td>56</td>\n",
       "      <td>housemaid</td>\n",
       "      <td>married</td>\n",
       "      <td>basic.4y</td>\n",
       "      <td>no</td>\n",
       "      <td>no</td>\n",
       "      <td>no</td>\n",
       "      <td>telephone</td>\n",
       "      <td>may</td>\n",
       "      <td>mon</td>\n",
       "      <td>...</td>\n",
       "      <td>1</td>\n",
       "      <td>999</td>\n",
       "      <td>0</td>\n",
       "      <td>nonexistent</td>\n",
       "      <td>1.1</td>\n",
       "      <td>93.994</td>\n",
       "      <td>-36.4</td>\n",
       "      <td>4.857</td>\n",
       "      <td>5191.0</td>\n",
       "      <td>no</td>\n",
       "    </tr>\n",
       "    <tr>\n",
       "      <th>1</th>\n",
       "      <td>57</td>\n",
       "      <td>services</td>\n",
       "      <td>married</td>\n",
       "      <td>high.school</td>\n",
       "      <td>unknown</td>\n",
       "      <td>no</td>\n",
       "      <td>no</td>\n",
       "      <td>telephone</td>\n",
       "      <td>may</td>\n",
       "      <td>mon</td>\n",
       "      <td>...</td>\n",
       "      <td>1</td>\n",
       "      <td>999</td>\n",
       "      <td>0</td>\n",
       "      <td>nonexistent</td>\n",
       "      <td>1.1</td>\n",
       "      <td>93.994</td>\n",
       "      <td>-36.4</td>\n",
       "      <td>4.857</td>\n",
       "      <td>5191.0</td>\n",
       "      <td>no</td>\n",
       "    </tr>\n",
       "    <tr>\n",
       "      <th>2</th>\n",
       "      <td>37</td>\n",
       "      <td>services</td>\n",
       "      <td>married</td>\n",
       "      <td>high.school</td>\n",
       "      <td>no</td>\n",
       "      <td>yes</td>\n",
       "      <td>no</td>\n",
       "      <td>telephone</td>\n",
       "      <td>may</td>\n",
       "      <td>mon</td>\n",
       "      <td>...</td>\n",
       "      <td>1</td>\n",
       "      <td>999</td>\n",
       "      <td>0</td>\n",
       "      <td>nonexistent</td>\n",
       "      <td>1.1</td>\n",
       "      <td>93.994</td>\n",
       "      <td>-36.4</td>\n",
       "      <td>4.857</td>\n",
       "      <td>5191.0</td>\n",
       "      <td>no</td>\n",
       "    </tr>\n",
       "    <tr>\n",
       "      <th>3</th>\n",
       "      <td>40</td>\n",
       "      <td>admin.</td>\n",
       "      <td>married</td>\n",
       "      <td>basic.6y</td>\n",
       "      <td>no</td>\n",
       "      <td>no</td>\n",
       "      <td>no</td>\n",
       "      <td>telephone</td>\n",
       "      <td>may</td>\n",
       "      <td>mon</td>\n",
       "      <td>...</td>\n",
       "      <td>1</td>\n",
       "      <td>999</td>\n",
       "      <td>0</td>\n",
       "      <td>nonexistent</td>\n",
       "      <td>1.1</td>\n",
       "      <td>93.994</td>\n",
       "      <td>-36.4</td>\n",
       "      <td>4.857</td>\n",
       "      <td>5191.0</td>\n",
       "      <td>no</td>\n",
       "    </tr>\n",
       "    <tr>\n",
       "      <th>4</th>\n",
       "      <td>56</td>\n",
       "      <td>services</td>\n",
       "      <td>married</td>\n",
       "      <td>high.school</td>\n",
       "      <td>no</td>\n",
       "      <td>no</td>\n",
       "      <td>yes</td>\n",
       "      <td>telephone</td>\n",
       "      <td>may</td>\n",
       "      <td>mon</td>\n",
       "      <td>...</td>\n",
       "      <td>1</td>\n",
       "      <td>999</td>\n",
       "      <td>0</td>\n",
       "      <td>nonexistent</td>\n",
       "      <td>1.1</td>\n",
       "      <td>93.994</td>\n",
       "      <td>-36.4</td>\n",
       "      <td>4.857</td>\n",
       "      <td>5191.0</td>\n",
       "      <td>no</td>\n",
       "    </tr>\n",
       "  </tbody>\n",
       "</table>\n",
       "<p>5 rows × 21 columns</p>\n",
       "</div>"
      ],
      "text/plain": [
       "   age        job  marital    education credit_default housing loan  \\\n",
       "0   56  housemaid  married     basic.4y             no      no   no   \n",
       "1   57   services  married  high.school        unknown      no   no   \n",
       "2   37   services  married  high.school             no     yes   no   \n",
       "3   40     admin.  married     basic.6y             no      no   no   \n",
       "4   56   services  married  high.school             no      no  yes   \n",
       "\n",
       "     contact contacted_month day_of_week  ...  compaign  pdays  previous  \\\n",
       "0  telephone             may         mon  ...         1    999         0   \n",
       "1  telephone             may         mon  ...         1    999         0   \n",
       "2  telephone             may         mon  ...         1    999         0   \n",
       "3  telephone             may         mon  ...         1    999         0   \n",
       "4  telephone             may         mon  ...         1    999         0   \n",
       "\n",
       "      poutcome emp_var_rate  cons_price_idx  cons_conf_idx  euribor3m  \\\n",
       "0  nonexistent          1.1          93.994          -36.4      4.857   \n",
       "1  nonexistent          1.1          93.994          -36.4      4.857   \n",
       "2  nonexistent          1.1          93.994          -36.4      4.857   \n",
       "3  nonexistent          1.1          93.994          -36.4      4.857   \n",
       "4  nonexistent          1.1          93.994          -36.4      4.857   \n",
       "\n",
       "   nr_employees   y  \n",
       "0        5191.0  no  \n",
       "1        5191.0  no  \n",
       "2        5191.0  no  \n",
       "3        5191.0  no  \n",
       "4        5191.0  no  \n",
       "\n",
       "[5 rows x 21 columns]"
      ]
     },
     "execution_count": 6,
     "metadata": {},
     "output_type": "execute_result"
    }
   ],
   "source": []
  },
  {
   "cell_type": "code",
   "execution_count": 7,
   "metadata": {
    "id": "r8_sSSMlX9wX",
    "outputId": "1d6051ac-9f53-4235-e969-84bd8f7da912"
   },
   "outputs": [
    {
     "data": {
      "text/html": [
       "<div>\n",
       "<style scoped>\n",
       "    .dataframe tbody tr th:only-of-type {\n",
       "        vertical-align: middle;\n",
       "    }\n",
       "\n",
       "    .dataframe tbody tr th {\n",
       "        vertical-align: top;\n",
       "    }\n",
       "\n",
       "    .dataframe thead th {\n",
       "        text-align: right;\n",
       "    }\n",
       "</style>\n",
       "<table border=\"1\" class=\"dataframe\">\n",
       "  <thead>\n",
       "    <tr style=\"text-align: right;\">\n",
       "      <th></th>\n",
       "      <th>age</th>\n",
       "      <th>job</th>\n",
       "      <th>marital</th>\n",
       "      <th>education</th>\n",
       "      <th>credit_default</th>\n",
       "      <th>housing</th>\n",
       "      <th>loan</th>\n",
       "      <th>contact</th>\n",
       "      <th>contacted_month</th>\n",
       "      <th>day_of_week</th>\n",
       "      <th>...</th>\n",
       "      <th>compaign</th>\n",
       "      <th>pdays</th>\n",
       "      <th>previous</th>\n",
       "      <th>poutcome</th>\n",
       "      <th>emp_var_rate</th>\n",
       "      <th>cons_price_idx</th>\n",
       "      <th>cons_conf_idx</th>\n",
       "      <th>euribor3m</th>\n",
       "      <th>nr_employees</th>\n",
       "      <th>y</th>\n",
       "    </tr>\n",
       "  </thead>\n",
       "  <tbody>\n",
       "    <tr>\n",
       "      <th>41183</th>\n",
       "      <td>73</td>\n",
       "      <td>retired</td>\n",
       "      <td>married</td>\n",
       "      <td>professional.course</td>\n",
       "      <td>no</td>\n",
       "      <td>yes</td>\n",
       "      <td>no</td>\n",
       "      <td>cellular</td>\n",
       "      <td>nov</td>\n",
       "      <td>fri</td>\n",
       "      <td>...</td>\n",
       "      <td>1</td>\n",
       "      <td>999</td>\n",
       "      <td>0</td>\n",
       "      <td>nonexistent</td>\n",
       "      <td>-1.1</td>\n",
       "      <td>94.767</td>\n",
       "      <td>-50.8</td>\n",
       "      <td>1.028</td>\n",
       "      <td>4963.6</td>\n",
       "      <td>yes</td>\n",
       "    </tr>\n",
       "    <tr>\n",
       "      <th>41184</th>\n",
       "      <td>46</td>\n",
       "      <td>blue-collar</td>\n",
       "      <td>married</td>\n",
       "      <td>professional.course</td>\n",
       "      <td>no</td>\n",
       "      <td>no</td>\n",
       "      <td>no</td>\n",
       "      <td>cellular</td>\n",
       "      <td>nov</td>\n",
       "      <td>fri</td>\n",
       "      <td>...</td>\n",
       "      <td>1</td>\n",
       "      <td>999</td>\n",
       "      <td>0</td>\n",
       "      <td>nonexistent</td>\n",
       "      <td>-1.1</td>\n",
       "      <td>94.767</td>\n",
       "      <td>-50.8</td>\n",
       "      <td>1.028</td>\n",
       "      <td>4963.6</td>\n",
       "      <td>no</td>\n",
       "    </tr>\n",
       "    <tr>\n",
       "      <th>41185</th>\n",
       "      <td>56</td>\n",
       "      <td>retired</td>\n",
       "      <td>married</td>\n",
       "      <td>university.degree</td>\n",
       "      <td>no</td>\n",
       "      <td>yes</td>\n",
       "      <td>no</td>\n",
       "      <td>cellular</td>\n",
       "      <td>nov</td>\n",
       "      <td>fri</td>\n",
       "      <td>...</td>\n",
       "      <td>2</td>\n",
       "      <td>999</td>\n",
       "      <td>0</td>\n",
       "      <td>nonexistent</td>\n",
       "      <td>-1.1</td>\n",
       "      <td>94.767</td>\n",
       "      <td>-50.8</td>\n",
       "      <td>1.028</td>\n",
       "      <td>4963.6</td>\n",
       "      <td>no</td>\n",
       "    </tr>\n",
       "    <tr>\n",
       "      <th>41186</th>\n",
       "      <td>44</td>\n",
       "      <td>technician</td>\n",
       "      <td>married</td>\n",
       "      <td>professional.course</td>\n",
       "      <td>no</td>\n",
       "      <td>no</td>\n",
       "      <td>no</td>\n",
       "      <td>cellular</td>\n",
       "      <td>nov</td>\n",
       "      <td>fri</td>\n",
       "      <td>...</td>\n",
       "      <td>1</td>\n",
       "      <td>999</td>\n",
       "      <td>0</td>\n",
       "      <td>nonexistent</td>\n",
       "      <td>-1.1</td>\n",
       "      <td>94.767</td>\n",
       "      <td>-50.8</td>\n",
       "      <td>1.028</td>\n",
       "      <td>4963.6</td>\n",
       "      <td>yes</td>\n",
       "    </tr>\n",
       "    <tr>\n",
       "      <th>41187</th>\n",
       "      <td>74</td>\n",
       "      <td>retired</td>\n",
       "      <td>married</td>\n",
       "      <td>professional.course</td>\n",
       "      <td>no</td>\n",
       "      <td>yes</td>\n",
       "      <td>no</td>\n",
       "      <td>cellular</td>\n",
       "      <td>nov</td>\n",
       "      <td>fri</td>\n",
       "      <td>...</td>\n",
       "      <td>3</td>\n",
       "      <td>999</td>\n",
       "      <td>1</td>\n",
       "      <td>failure</td>\n",
       "      <td>-1.1</td>\n",
       "      <td>94.767</td>\n",
       "      <td>-50.8</td>\n",
       "      <td>1.028</td>\n",
       "      <td>4963.6</td>\n",
       "      <td>no</td>\n",
       "    </tr>\n",
       "  </tbody>\n",
       "</table>\n",
       "<p>5 rows × 21 columns</p>\n",
       "</div>"
      ],
      "text/plain": [
       "       age          job  marital            education credit_default housing  \\\n",
       "41183   73      retired  married  professional.course             no     yes   \n",
       "41184   46  blue-collar  married  professional.course             no      no   \n",
       "41185   56      retired  married    university.degree             no     yes   \n",
       "41186   44   technician  married  professional.course             no      no   \n",
       "41187   74      retired  married  professional.course             no     yes   \n",
       "\n",
       "      loan   contact contacted_month day_of_week  ...  compaign  pdays  \\\n",
       "41183   no  cellular             nov         fri  ...         1    999   \n",
       "41184   no  cellular             nov         fri  ...         1    999   \n",
       "41185   no  cellular             nov         fri  ...         2    999   \n",
       "41186   no  cellular             nov         fri  ...         1    999   \n",
       "41187   no  cellular             nov         fri  ...         3    999   \n",
       "\n",
       "       previous     poutcome emp_var_rate  cons_price_idx  cons_conf_idx  \\\n",
       "41183         0  nonexistent         -1.1          94.767          -50.8   \n",
       "41184         0  nonexistent         -1.1          94.767          -50.8   \n",
       "41185         0  nonexistent         -1.1          94.767          -50.8   \n",
       "41186         0  nonexistent         -1.1          94.767          -50.8   \n",
       "41187         1      failure         -1.1          94.767          -50.8   \n",
       "\n",
       "       euribor3m  nr_employees    y  \n",
       "41183      1.028        4963.6  yes  \n",
       "41184      1.028        4963.6   no  \n",
       "41185      1.028        4963.6   no  \n",
       "41186      1.028        4963.6  yes  \n",
       "41187      1.028        4963.6   no  \n",
       "\n",
       "[5 rows x 21 columns]"
      ]
     },
     "execution_count": 7,
     "metadata": {},
     "output_type": "execute_result"
    }
   ],
   "source": []
  },
  {
   "cell_type": "markdown",
   "metadata": {
    "id": "2h9jXId7X9wX"
   },
   "source": [
    "#### Summary Statistics"
   ]
  },
  {
   "cell_type": "code",
   "execution_count": 8,
   "metadata": {
    "id": "5VlM5hFIX9wY",
    "outputId": "2ec354d0-9ba7-4149-d10b-454be3e47e58"
   },
   "outputs": [
    {
     "data": {
      "text/html": [
       "<div>\n",
       "<style scoped>\n",
       "    .dataframe tbody tr th:only-of-type {\n",
       "        vertical-align: middle;\n",
       "    }\n",
       "\n",
       "    .dataframe tbody tr th {\n",
       "        vertical-align: top;\n",
       "    }\n",
       "\n",
       "    .dataframe thead th {\n",
       "        text-align: right;\n",
       "    }\n",
       "</style>\n",
       "<table border=\"1\" class=\"dataframe\">\n",
       "  <thead>\n",
       "    <tr style=\"text-align: right;\">\n",
       "      <th></th>\n",
       "      <th>age</th>\n",
       "      <th>duration</th>\n",
       "      <th>compaign</th>\n",
       "      <th>pdays</th>\n",
       "      <th>previous</th>\n",
       "      <th>emp_var_rate</th>\n",
       "      <th>cons_price_idx</th>\n",
       "      <th>cons_conf_idx</th>\n",
       "      <th>euribor3m</th>\n",
       "      <th>nr_employees</th>\n",
       "    </tr>\n",
       "  </thead>\n",
       "  <tbody>\n",
       "    <tr>\n",
       "      <th>count</th>\n",
       "      <td>41188.00000</td>\n",
       "      <td>41188.000000</td>\n",
       "      <td>41188.000000</td>\n",
       "      <td>41188.000000</td>\n",
       "      <td>41188.000000</td>\n",
       "      <td>41188.000000</td>\n",
       "      <td>41188.000000</td>\n",
       "      <td>41188.000000</td>\n",
       "      <td>41188.000000</td>\n",
       "      <td>41188.000000</td>\n",
       "    </tr>\n",
       "    <tr>\n",
       "      <th>mean</th>\n",
       "      <td>40.02406</td>\n",
       "      <td>258.285010</td>\n",
       "      <td>2.567593</td>\n",
       "      <td>962.475454</td>\n",
       "      <td>0.172963</td>\n",
       "      <td>0.081886</td>\n",
       "      <td>93.575664</td>\n",
       "      <td>-40.502600</td>\n",
       "      <td>3.621291</td>\n",
       "      <td>5167.035911</td>\n",
       "    </tr>\n",
       "    <tr>\n",
       "      <th>std</th>\n",
       "      <td>10.42125</td>\n",
       "      <td>259.279249</td>\n",
       "      <td>2.770014</td>\n",
       "      <td>186.910907</td>\n",
       "      <td>0.494901</td>\n",
       "      <td>1.570960</td>\n",
       "      <td>0.578840</td>\n",
       "      <td>4.628198</td>\n",
       "      <td>1.734447</td>\n",
       "      <td>72.251528</td>\n",
       "    </tr>\n",
       "    <tr>\n",
       "      <th>min</th>\n",
       "      <td>17.00000</td>\n",
       "      <td>0.000000</td>\n",
       "      <td>1.000000</td>\n",
       "      <td>0.000000</td>\n",
       "      <td>0.000000</td>\n",
       "      <td>-3.400000</td>\n",
       "      <td>92.201000</td>\n",
       "      <td>-50.800000</td>\n",
       "      <td>0.634000</td>\n",
       "      <td>4963.600000</td>\n",
       "    </tr>\n",
       "    <tr>\n",
       "      <th>25%</th>\n",
       "      <td>32.00000</td>\n",
       "      <td>102.000000</td>\n",
       "      <td>1.000000</td>\n",
       "      <td>999.000000</td>\n",
       "      <td>0.000000</td>\n",
       "      <td>-1.800000</td>\n",
       "      <td>93.075000</td>\n",
       "      <td>-42.700000</td>\n",
       "      <td>1.344000</td>\n",
       "      <td>5099.100000</td>\n",
       "    </tr>\n",
       "    <tr>\n",
       "      <th>50%</th>\n",
       "      <td>38.00000</td>\n",
       "      <td>180.000000</td>\n",
       "      <td>2.000000</td>\n",
       "      <td>999.000000</td>\n",
       "      <td>0.000000</td>\n",
       "      <td>1.100000</td>\n",
       "      <td>93.749000</td>\n",
       "      <td>-41.800000</td>\n",
       "      <td>4.857000</td>\n",
       "      <td>5191.000000</td>\n",
       "    </tr>\n",
       "    <tr>\n",
       "      <th>75%</th>\n",
       "      <td>47.00000</td>\n",
       "      <td>319.000000</td>\n",
       "      <td>3.000000</td>\n",
       "      <td>999.000000</td>\n",
       "      <td>0.000000</td>\n",
       "      <td>1.400000</td>\n",
       "      <td>93.994000</td>\n",
       "      <td>-36.400000</td>\n",
       "      <td>4.961000</td>\n",
       "      <td>5228.100000</td>\n",
       "    </tr>\n",
       "    <tr>\n",
       "      <th>max</th>\n",
       "      <td>98.00000</td>\n",
       "      <td>4918.000000</td>\n",
       "      <td>56.000000</td>\n",
       "      <td>999.000000</td>\n",
       "      <td>7.000000</td>\n",
       "      <td>1.400000</td>\n",
       "      <td>94.767000</td>\n",
       "      <td>-26.900000</td>\n",
       "      <td>5.045000</td>\n",
       "      <td>5228.100000</td>\n",
       "    </tr>\n",
       "  </tbody>\n",
       "</table>\n",
       "</div>"
      ],
      "text/plain": [
       "               age      duration      compaign         pdays      previous  \\\n",
       "count  41188.00000  41188.000000  41188.000000  41188.000000  41188.000000   \n",
       "mean      40.02406    258.285010      2.567593    962.475454      0.172963   \n",
       "std       10.42125    259.279249      2.770014    186.910907      0.494901   \n",
       "min       17.00000      0.000000      1.000000      0.000000      0.000000   \n",
       "25%       32.00000    102.000000      1.000000    999.000000      0.000000   \n",
       "50%       38.00000    180.000000      2.000000    999.000000      0.000000   \n",
       "75%       47.00000    319.000000      3.000000    999.000000      0.000000   \n",
       "max       98.00000   4918.000000     56.000000    999.000000      7.000000   \n",
       "\n",
       "       emp_var_rate  cons_price_idx  cons_conf_idx     euribor3m  nr_employees  \n",
       "count  41188.000000    41188.000000   41188.000000  41188.000000  41188.000000  \n",
       "mean       0.081886       93.575664     -40.502600      3.621291   5167.035911  \n",
       "std        1.570960        0.578840       4.628198      1.734447     72.251528  \n",
       "min       -3.400000       92.201000     -50.800000      0.634000   4963.600000  \n",
       "25%       -1.800000       93.075000     -42.700000      1.344000   5099.100000  \n",
       "50%        1.100000       93.749000     -41.800000      4.857000   5191.000000  \n",
       "75%        1.400000       93.994000     -36.400000      4.961000   5228.100000  \n",
       "max        1.400000       94.767000     -26.900000      5.045000   5228.100000  "
      ]
     },
     "execution_count": 8,
     "metadata": {},
     "output_type": "execute_result"
    }
   ],
   "source": []
  },
  {
   "cell_type": "code",
   "execution_count": 9,
   "metadata": {
    "id": "I-17wkvmX9wZ",
    "outputId": "fd01d345-4238-421a-ffe7-927c9f59cddc"
   },
   "outputs": [
    {
     "data": {
      "text/html": [
       "<div>\n",
       "<style scoped>\n",
       "    .dataframe tbody tr th:only-of-type {\n",
       "        vertical-align: middle;\n",
       "    }\n",
       "\n",
       "    .dataframe tbody tr th {\n",
       "        vertical-align: top;\n",
       "    }\n",
       "\n",
       "    .dataframe thead th {\n",
       "        text-align: right;\n",
       "    }\n",
       "</style>\n",
       "<table border=\"1\" class=\"dataframe\">\n",
       "  <thead>\n",
       "    <tr style=\"text-align: right;\">\n",
       "      <th></th>\n",
       "      <th>age</th>\n",
       "      <th>job</th>\n",
       "      <th>marital</th>\n",
       "      <th>education</th>\n",
       "      <th>credit_default</th>\n",
       "      <th>housing</th>\n",
       "      <th>loan</th>\n",
       "      <th>contact</th>\n",
       "      <th>contacted_month</th>\n",
       "      <th>day_of_week</th>\n",
       "      <th>...</th>\n",
       "      <th>compaign</th>\n",
       "      <th>pdays</th>\n",
       "      <th>previous</th>\n",
       "      <th>poutcome</th>\n",
       "      <th>emp_var_rate</th>\n",
       "      <th>cons_price_idx</th>\n",
       "      <th>cons_conf_idx</th>\n",
       "      <th>euribor3m</th>\n",
       "      <th>nr_employees</th>\n",
       "      <th>y</th>\n",
       "    </tr>\n",
       "  </thead>\n",
       "  <tbody>\n",
       "    <tr>\n",
       "      <th>count</th>\n",
       "      <td>41188.00000</td>\n",
       "      <td>41188</td>\n",
       "      <td>41188</td>\n",
       "      <td>41188</td>\n",
       "      <td>41188</td>\n",
       "      <td>41188</td>\n",
       "      <td>41188</td>\n",
       "      <td>41188</td>\n",
       "      <td>41188</td>\n",
       "      <td>41188</td>\n",
       "      <td>...</td>\n",
       "      <td>41188.000000</td>\n",
       "      <td>41188.000000</td>\n",
       "      <td>41188.000000</td>\n",
       "      <td>41188</td>\n",
       "      <td>41188.000000</td>\n",
       "      <td>41188.000000</td>\n",
       "      <td>41188.000000</td>\n",
       "      <td>41188.000000</td>\n",
       "      <td>41188.000000</td>\n",
       "      <td>41188</td>\n",
       "    </tr>\n",
       "    <tr>\n",
       "      <th>unique</th>\n",
       "      <td>NaN</td>\n",
       "      <td>12</td>\n",
       "      <td>4</td>\n",
       "      <td>8</td>\n",
       "      <td>3</td>\n",
       "      <td>3</td>\n",
       "      <td>3</td>\n",
       "      <td>2</td>\n",
       "      <td>10</td>\n",
       "      <td>5</td>\n",
       "      <td>...</td>\n",
       "      <td>NaN</td>\n",
       "      <td>NaN</td>\n",
       "      <td>NaN</td>\n",
       "      <td>3</td>\n",
       "      <td>NaN</td>\n",
       "      <td>NaN</td>\n",
       "      <td>NaN</td>\n",
       "      <td>NaN</td>\n",
       "      <td>NaN</td>\n",
       "      <td>2</td>\n",
       "    </tr>\n",
       "    <tr>\n",
       "      <th>top</th>\n",
       "      <td>NaN</td>\n",
       "      <td>admin.</td>\n",
       "      <td>married</td>\n",
       "      <td>university.degree</td>\n",
       "      <td>no</td>\n",
       "      <td>yes</td>\n",
       "      <td>no</td>\n",
       "      <td>cellular</td>\n",
       "      <td>may</td>\n",
       "      <td>thu</td>\n",
       "      <td>...</td>\n",
       "      <td>NaN</td>\n",
       "      <td>NaN</td>\n",
       "      <td>NaN</td>\n",
       "      <td>nonexistent</td>\n",
       "      <td>NaN</td>\n",
       "      <td>NaN</td>\n",
       "      <td>NaN</td>\n",
       "      <td>NaN</td>\n",
       "      <td>NaN</td>\n",
       "      <td>no</td>\n",
       "    </tr>\n",
       "    <tr>\n",
       "      <th>freq</th>\n",
       "      <td>NaN</td>\n",
       "      <td>10422</td>\n",
       "      <td>24928</td>\n",
       "      <td>12168</td>\n",
       "      <td>32588</td>\n",
       "      <td>21576</td>\n",
       "      <td>33950</td>\n",
       "      <td>26144</td>\n",
       "      <td>13769</td>\n",
       "      <td>8623</td>\n",
       "      <td>...</td>\n",
       "      <td>NaN</td>\n",
       "      <td>NaN</td>\n",
       "      <td>NaN</td>\n",
       "      <td>35563</td>\n",
       "      <td>NaN</td>\n",
       "      <td>NaN</td>\n",
       "      <td>NaN</td>\n",
       "      <td>NaN</td>\n",
       "      <td>NaN</td>\n",
       "      <td>36548</td>\n",
       "    </tr>\n",
       "    <tr>\n",
       "      <th>mean</th>\n",
       "      <td>40.02406</td>\n",
       "      <td>NaN</td>\n",
       "      <td>NaN</td>\n",
       "      <td>NaN</td>\n",
       "      <td>NaN</td>\n",
       "      <td>NaN</td>\n",
       "      <td>NaN</td>\n",
       "      <td>NaN</td>\n",
       "      <td>NaN</td>\n",
       "      <td>NaN</td>\n",
       "      <td>...</td>\n",
       "      <td>2.567593</td>\n",
       "      <td>962.475454</td>\n",
       "      <td>0.172963</td>\n",
       "      <td>NaN</td>\n",
       "      <td>0.081886</td>\n",
       "      <td>93.575664</td>\n",
       "      <td>-40.502600</td>\n",
       "      <td>3.621291</td>\n",
       "      <td>5167.035911</td>\n",
       "      <td>NaN</td>\n",
       "    </tr>\n",
       "    <tr>\n",
       "      <th>std</th>\n",
       "      <td>10.42125</td>\n",
       "      <td>NaN</td>\n",
       "      <td>NaN</td>\n",
       "      <td>NaN</td>\n",
       "      <td>NaN</td>\n",
       "      <td>NaN</td>\n",
       "      <td>NaN</td>\n",
       "      <td>NaN</td>\n",
       "      <td>NaN</td>\n",
       "      <td>NaN</td>\n",
       "      <td>...</td>\n",
       "      <td>2.770014</td>\n",
       "      <td>186.910907</td>\n",
       "      <td>0.494901</td>\n",
       "      <td>NaN</td>\n",
       "      <td>1.570960</td>\n",
       "      <td>0.578840</td>\n",
       "      <td>4.628198</td>\n",
       "      <td>1.734447</td>\n",
       "      <td>72.251528</td>\n",
       "      <td>NaN</td>\n",
       "    </tr>\n",
       "    <tr>\n",
       "      <th>min</th>\n",
       "      <td>17.00000</td>\n",
       "      <td>NaN</td>\n",
       "      <td>NaN</td>\n",
       "      <td>NaN</td>\n",
       "      <td>NaN</td>\n",
       "      <td>NaN</td>\n",
       "      <td>NaN</td>\n",
       "      <td>NaN</td>\n",
       "      <td>NaN</td>\n",
       "      <td>NaN</td>\n",
       "      <td>...</td>\n",
       "      <td>1.000000</td>\n",
       "      <td>0.000000</td>\n",
       "      <td>0.000000</td>\n",
       "      <td>NaN</td>\n",
       "      <td>-3.400000</td>\n",
       "      <td>92.201000</td>\n",
       "      <td>-50.800000</td>\n",
       "      <td>0.634000</td>\n",
       "      <td>4963.600000</td>\n",
       "      <td>NaN</td>\n",
       "    </tr>\n",
       "    <tr>\n",
       "      <th>25%</th>\n",
       "      <td>32.00000</td>\n",
       "      <td>NaN</td>\n",
       "      <td>NaN</td>\n",
       "      <td>NaN</td>\n",
       "      <td>NaN</td>\n",
       "      <td>NaN</td>\n",
       "      <td>NaN</td>\n",
       "      <td>NaN</td>\n",
       "      <td>NaN</td>\n",
       "      <td>NaN</td>\n",
       "      <td>...</td>\n",
       "      <td>1.000000</td>\n",
       "      <td>999.000000</td>\n",
       "      <td>0.000000</td>\n",
       "      <td>NaN</td>\n",
       "      <td>-1.800000</td>\n",
       "      <td>93.075000</td>\n",
       "      <td>-42.700000</td>\n",
       "      <td>1.344000</td>\n",
       "      <td>5099.100000</td>\n",
       "      <td>NaN</td>\n",
       "    </tr>\n",
       "    <tr>\n",
       "      <th>50%</th>\n",
       "      <td>38.00000</td>\n",
       "      <td>NaN</td>\n",
       "      <td>NaN</td>\n",
       "      <td>NaN</td>\n",
       "      <td>NaN</td>\n",
       "      <td>NaN</td>\n",
       "      <td>NaN</td>\n",
       "      <td>NaN</td>\n",
       "      <td>NaN</td>\n",
       "      <td>NaN</td>\n",
       "      <td>...</td>\n",
       "      <td>2.000000</td>\n",
       "      <td>999.000000</td>\n",
       "      <td>0.000000</td>\n",
       "      <td>NaN</td>\n",
       "      <td>1.100000</td>\n",
       "      <td>93.749000</td>\n",
       "      <td>-41.800000</td>\n",
       "      <td>4.857000</td>\n",
       "      <td>5191.000000</td>\n",
       "      <td>NaN</td>\n",
       "    </tr>\n",
       "    <tr>\n",
       "      <th>75%</th>\n",
       "      <td>47.00000</td>\n",
       "      <td>NaN</td>\n",
       "      <td>NaN</td>\n",
       "      <td>NaN</td>\n",
       "      <td>NaN</td>\n",
       "      <td>NaN</td>\n",
       "      <td>NaN</td>\n",
       "      <td>NaN</td>\n",
       "      <td>NaN</td>\n",
       "      <td>NaN</td>\n",
       "      <td>...</td>\n",
       "      <td>3.000000</td>\n",
       "      <td>999.000000</td>\n",
       "      <td>0.000000</td>\n",
       "      <td>NaN</td>\n",
       "      <td>1.400000</td>\n",
       "      <td>93.994000</td>\n",
       "      <td>-36.400000</td>\n",
       "      <td>4.961000</td>\n",
       "      <td>5228.100000</td>\n",
       "      <td>NaN</td>\n",
       "    </tr>\n",
       "    <tr>\n",
       "      <th>max</th>\n",
       "      <td>98.00000</td>\n",
       "      <td>NaN</td>\n",
       "      <td>NaN</td>\n",
       "      <td>NaN</td>\n",
       "      <td>NaN</td>\n",
       "      <td>NaN</td>\n",
       "      <td>NaN</td>\n",
       "      <td>NaN</td>\n",
       "      <td>NaN</td>\n",
       "      <td>NaN</td>\n",
       "      <td>...</td>\n",
       "      <td>56.000000</td>\n",
       "      <td>999.000000</td>\n",
       "      <td>7.000000</td>\n",
       "      <td>NaN</td>\n",
       "      <td>1.400000</td>\n",
       "      <td>94.767000</td>\n",
       "      <td>-26.900000</td>\n",
       "      <td>5.045000</td>\n",
       "      <td>5228.100000</td>\n",
       "      <td>NaN</td>\n",
       "    </tr>\n",
       "  </tbody>\n",
       "</table>\n",
       "<p>11 rows × 21 columns</p>\n",
       "</div>"
      ],
      "text/plain": [
       "                age     job  marital          education credit_default  \\\n",
       "count   41188.00000   41188    41188              41188          41188   \n",
       "unique          NaN      12        4                  8              3   \n",
       "top             NaN  admin.  married  university.degree             no   \n",
       "freq            NaN   10422    24928              12168          32588   \n",
       "mean       40.02406     NaN      NaN                NaN            NaN   \n",
       "std        10.42125     NaN      NaN                NaN            NaN   \n",
       "min        17.00000     NaN      NaN                NaN            NaN   \n",
       "25%        32.00000     NaN      NaN                NaN            NaN   \n",
       "50%        38.00000     NaN      NaN                NaN            NaN   \n",
       "75%        47.00000     NaN      NaN                NaN            NaN   \n",
       "max        98.00000     NaN      NaN                NaN            NaN   \n",
       "\n",
       "       housing   loan   contact contacted_month day_of_week  ...  \\\n",
       "count    41188  41188     41188           41188       41188  ...   \n",
       "unique       3      3         2              10           5  ...   \n",
       "top        yes     no  cellular             may         thu  ...   \n",
       "freq     21576  33950     26144           13769        8623  ...   \n",
       "mean       NaN    NaN       NaN             NaN         NaN  ...   \n",
       "std        NaN    NaN       NaN             NaN         NaN  ...   \n",
       "min        NaN    NaN       NaN             NaN         NaN  ...   \n",
       "25%        NaN    NaN       NaN             NaN         NaN  ...   \n",
       "50%        NaN    NaN       NaN             NaN         NaN  ...   \n",
       "75%        NaN    NaN       NaN             NaN         NaN  ...   \n",
       "max        NaN    NaN       NaN             NaN         NaN  ...   \n",
       "\n",
       "            compaign         pdays      previous     poutcome  emp_var_rate  \\\n",
       "count   41188.000000  41188.000000  41188.000000        41188  41188.000000   \n",
       "unique           NaN           NaN           NaN            3           NaN   \n",
       "top              NaN           NaN           NaN  nonexistent           NaN   \n",
       "freq             NaN           NaN           NaN        35563           NaN   \n",
       "mean        2.567593    962.475454      0.172963          NaN      0.081886   \n",
       "std         2.770014    186.910907      0.494901          NaN      1.570960   \n",
       "min         1.000000      0.000000      0.000000          NaN     -3.400000   \n",
       "25%         1.000000    999.000000      0.000000          NaN     -1.800000   \n",
       "50%         2.000000    999.000000      0.000000          NaN      1.100000   \n",
       "75%         3.000000    999.000000      0.000000          NaN      1.400000   \n",
       "max        56.000000    999.000000      7.000000          NaN      1.400000   \n",
       "\n",
       "        cons_price_idx  cons_conf_idx     euribor3m  nr_employees      y  \n",
       "count     41188.000000   41188.000000  41188.000000  41188.000000  41188  \n",
       "unique             NaN            NaN           NaN           NaN      2  \n",
       "top                NaN            NaN           NaN           NaN     no  \n",
       "freq               NaN            NaN           NaN           NaN  36548  \n",
       "mean         93.575664     -40.502600      3.621291   5167.035911    NaN  \n",
       "std           0.578840       4.628198      1.734447     72.251528    NaN  \n",
       "min          92.201000     -50.800000      0.634000   4963.600000    NaN  \n",
       "25%          93.075000     -42.700000      1.344000   5099.100000    NaN  \n",
       "50%          93.749000     -41.800000      4.857000   5191.000000    NaN  \n",
       "75%          93.994000     -36.400000      4.961000   5228.100000    NaN  \n",
       "max          94.767000     -26.900000      5.045000   5228.100000    NaN  \n",
       "\n",
       "[11 rows x 21 columns]"
      ]
     },
     "execution_count": 9,
     "metadata": {},
     "output_type": "execute_result"
    }
   ],
   "source": []
  },
  {
   "cell_type": "code",
   "execution_count": 10,
   "metadata": {
    "id": "o8XdmmbwX9wj",
    "outputId": "e6fe52eb-4d08-4e8e-bec2-55faa60756b5"
   },
   "outputs": [
    {
     "data": {
      "text/plain": [
       "age                  int64\n",
       "job                 object\n",
       "marital             object\n",
       "education           object\n",
       "credit_default      object\n",
       "housing             object\n",
       "loan                object\n",
       "contact             object\n",
       "contacted_month     object\n",
       "day_of_week         object\n",
       "duration             int64\n",
       "compaign             int64\n",
       "pdays                int64\n",
       "previous             int64\n",
       "poutcome            object\n",
       "emp_var_rate       float64\n",
       "cons_price_idx     float64\n",
       "cons_conf_idx      float64\n",
       "euribor3m          float64\n",
       "nr_employees       float64\n",
       "y                   object\n",
       "dtype: object"
      ]
     },
     "execution_count": 10,
     "metadata": {},
     "output_type": "execute_result"
    }
   ],
   "source": []
  },
  {
   "cell_type": "markdown",
   "metadata": {
    "id": "MFjNNzleX9wk"
   },
   "source": [
    "#### Observations\n",
    "\n",
    "Few attributes such as job, marital, education, default, housing, loan, contact, month, day_of_week, poutcome and y are categorical but are interpreted as object type. "
   ]
  },
  {
   "cell_type": "markdown",
   "metadata": {
    "id": "2KZ-698vX9wl"
   },
   "source": [
    "#### TypeCasting - Convert the attribute in to appropriate type\n",
    "\n",
    "Using astype('category') to convert job, marital, education, default, housing, loan, contact, month, day_of_week, poutcome and y attributes to categorical attributes from existing object datatype"
   ]
  },
  {
   "cell_type": "code",
   "execution_count": 11,
   "metadata": {
    "id": "xjp61ZgvX9wl"
   },
   "outputs": [],
   "source": [
    "cat_Attr_Names =  ['job', 'marital', 'education', 'credit_default', 'housing', 'loan', \n",
    "                   'contact', 'contacted_month', 'day_of_week', 'poutcome', 'y']\n",
    "\n",
    "num_Attr_Names = list(set(data.columns) - set(cat_Attr_Names))"
   ]
  },
  {
   "cell_type": "code",
   "execution_count": 12,
   "metadata": {
    "id": "G9SvQtd8X9wn"
   },
   "outputs": [],
   "source": [
    "data[cat_Attr_Names] = \n",
    "data[num_Attr_Names] = "
   ]
  },
  {
   "cell_type": "code",
   "execution_count": 13,
   "metadata": {
    "id": "E69uqI_sX9wo",
    "outputId": "42d9d8d9-5f94-4316-bfe6-24f617700be0"
   },
   "outputs": [
    {
     "data": {
      "text/plain": [
       "age                 float64\n",
       "job                category\n",
       "marital            category\n",
       "education          category\n",
       "credit_default     category\n",
       "housing            category\n",
       "loan               category\n",
       "contact            category\n",
       "contacted_month    category\n",
       "day_of_week        category\n",
       "duration            float64\n",
       "compaign            float64\n",
       "pdays               float64\n",
       "previous            float64\n",
       "poutcome           category\n",
       "emp_var_rate        float64\n",
       "cons_price_idx      float64\n",
       "cons_conf_idx       float64\n",
       "euribor3m           float64\n",
       "nr_employees        float64\n",
       "y                  category\n",
       "dtype: object"
      ]
     },
     "execution_count": 13,
     "metadata": {},
     "output_type": "execute_result"
    }
   ],
   "source": [
    "data.dtypes"
   ]
  },
  {
   "cell_type": "markdown",
   "metadata": {
    "id": "B2nY9Vx1X9wr"
   },
   "source": [
    "#### Summary Statistics"
   ]
  },
  {
   "cell_type": "code",
   "execution_count": 14,
   "metadata": {
    "id": "n-mCxgKsX9wr",
    "outputId": "eab54188-46ea-4624-8b5e-b04fb435bcbc"
   },
   "outputs": [
    {
     "data": {
      "text/html": [
       "<div>\n",
       "<style scoped>\n",
       "    .dataframe tbody tr th:only-of-type {\n",
       "        vertical-align: middle;\n",
       "    }\n",
       "\n",
       "    .dataframe tbody tr th {\n",
       "        vertical-align: top;\n",
       "    }\n",
       "\n",
       "    .dataframe thead th {\n",
       "        text-align: right;\n",
       "    }\n",
       "</style>\n",
       "<table border=\"1\" class=\"dataframe\">\n",
       "  <thead>\n",
       "    <tr style=\"text-align: right;\">\n",
       "      <th></th>\n",
       "      <th>age</th>\n",
       "      <th>job</th>\n",
       "      <th>marital</th>\n",
       "      <th>education</th>\n",
       "      <th>credit_default</th>\n",
       "      <th>housing</th>\n",
       "      <th>loan</th>\n",
       "      <th>contact</th>\n",
       "      <th>contacted_month</th>\n",
       "      <th>day_of_week</th>\n",
       "      <th>...</th>\n",
       "      <th>compaign</th>\n",
       "      <th>pdays</th>\n",
       "      <th>previous</th>\n",
       "      <th>poutcome</th>\n",
       "      <th>emp_var_rate</th>\n",
       "      <th>cons_price_idx</th>\n",
       "      <th>cons_conf_idx</th>\n",
       "      <th>euribor3m</th>\n",
       "      <th>nr_employees</th>\n",
       "      <th>y</th>\n",
       "    </tr>\n",
       "  </thead>\n",
       "  <tbody>\n",
       "    <tr>\n",
       "      <th>count</th>\n",
       "      <td>41188.00000</td>\n",
       "      <td>41188</td>\n",
       "      <td>41188</td>\n",
       "      <td>41188</td>\n",
       "      <td>41188</td>\n",
       "      <td>41188</td>\n",
       "      <td>41188</td>\n",
       "      <td>41188</td>\n",
       "      <td>41188</td>\n",
       "      <td>41188</td>\n",
       "      <td>...</td>\n",
       "      <td>41188.000000</td>\n",
       "      <td>41188.000000</td>\n",
       "      <td>41188.000000</td>\n",
       "      <td>41188</td>\n",
       "      <td>41188.000000</td>\n",
       "      <td>41188.000000</td>\n",
       "      <td>41188.000000</td>\n",
       "      <td>41188.000000</td>\n",
       "      <td>41188.000000</td>\n",
       "      <td>41188</td>\n",
       "    </tr>\n",
       "    <tr>\n",
       "      <th>unique</th>\n",
       "      <td>NaN</td>\n",
       "      <td>12</td>\n",
       "      <td>4</td>\n",
       "      <td>8</td>\n",
       "      <td>3</td>\n",
       "      <td>3</td>\n",
       "      <td>3</td>\n",
       "      <td>2</td>\n",
       "      <td>10</td>\n",
       "      <td>5</td>\n",
       "      <td>...</td>\n",
       "      <td>NaN</td>\n",
       "      <td>NaN</td>\n",
       "      <td>NaN</td>\n",
       "      <td>3</td>\n",
       "      <td>NaN</td>\n",
       "      <td>NaN</td>\n",
       "      <td>NaN</td>\n",
       "      <td>NaN</td>\n",
       "      <td>NaN</td>\n",
       "      <td>2</td>\n",
       "    </tr>\n",
       "    <tr>\n",
       "      <th>top</th>\n",
       "      <td>NaN</td>\n",
       "      <td>admin.</td>\n",
       "      <td>married</td>\n",
       "      <td>university.degree</td>\n",
       "      <td>no</td>\n",
       "      <td>yes</td>\n",
       "      <td>no</td>\n",
       "      <td>cellular</td>\n",
       "      <td>may</td>\n",
       "      <td>thu</td>\n",
       "      <td>...</td>\n",
       "      <td>NaN</td>\n",
       "      <td>NaN</td>\n",
       "      <td>NaN</td>\n",
       "      <td>nonexistent</td>\n",
       "      <td>NaN</td>\n",
       "      <td>NaN</td>\n",
       "      <td>NaN</td>\n",
       "      <td>NaN</td>\n",
       "      <td>NaN</td>\n",
       "      <td>no</td>\n",
       "    </tr>\n",
       "    <tr>\n",
       "      <th>freq</th>\n",
       "      <td>NaN</td>\n",
       "      <td>10422</td>\n",
       "      <td>24928</td>\n",
       "      <td>12168</td>\n",
       "      <td>32588</td>\n",
       "      <td>21576</td>\n",
       "      <td>33950</td>\n",
       "      <td>26144</td>\n",
       "      <td>13769</td>\n",
       "      <td>8623</td>\n",
       "      <td>...</td>\n",
       "      <td>NaN</td>\n",
       "      <td>NaN</td>\n",
       "      <td>NaN</td>\n",
       "      <td>35563</td>\n",
       "      <td>NaN</td>\n",
       "      <td>NaN</td>\n",
       "      <td>NaN</td>\n",
       "      <td>NaN</td>\n",
       "      <td>NaN</td>\n",
       "      <td>36548</td>\n",
       "    </tr>\n",
       "    <tr>\n",
       "      <th>mean</th>\n",
       "      <td>40.02406</td>\n",
       "      <td>NaN</td>\n",
       "      <td>NaN</td>\n",
       "      <td>NaN</td>\n",
       "      <td>NaN</td>\n",
       "      <td>NaN</td>\n",
       "      <td>NaN</td>\n",
       "      <td>NaN</td>\n",
       "      <td>NaN</td>\n",
       "      <td>NaN</td>\n",
       "      <td>...</td>\n",
       "      <td>2.567593</td>\n",
       "      <td>962.475454</td>\n",
       "      <td>0.172963</td>\n",
       "      <td>NaN</td>\n",
       "      <td>0.081886</td>\n",
       "      <td>93.575664</td>\n",
       "      <td>-40.502600</td>\n",
       "      <td>3.621291</td>\n",
       "      <td>5167.035911</td>\n",
       "      <td>NaN</td>\n",
       "    </tr>\n",
       "    <tr>\n",
       "      <th>std</th>\n",
       "      <td>10.42125</td>\n",
       "      <td>NaN</td>\n",
       "      <td>NaN</td>\n",
       "      <td>NaN</td>\n",
       "      <td>NaN</td>\n",
       "      <td>NaN</td>\n",
       "      <td>NaN</td>\n",
       "      <td>NaN</td>\n",
       "      <td>NaN</td>\n",
       "      <td>NaN</td>\n",
       "      <td>...</td>\n",
       "      <td>2.770014</td>\n",
       "      <td>186.910907</td>\n",
       "      <td>0.494901</td>\n",
       "      <td>NaN</td>\n",
       "      <td>1.570960</td>\n",
       "      <td>0.578840</td>\n",
       "      <td>4.628198</td>\n",
       "      <td>1.734447</td>\n",
       "      <td>72.251528</td>\n",
       "      <td>NaN</td>\n",
       "    </tr>\n",
       "    <tr>\n",
       "      <th>min</th>\n",
       "      <td>17.00000</td>\n",
       "      <td>NaN</td>\n",
       "      <td>NaN</td>\n",
       "      <td>NaN</td>\n",
       "      <td>NaN</td>\n",
       "      <td>NaN</td>\n",
       "      <td>NaN</td>\n",
       "      <td>NaN</td>\n",
       "      <td>NaN</td>\n",
       "      <td>NaN</td>\n",
       "      <td>...</td>\n",
       "      <td>1.000000</td>\n",
       "      <td>0.000000</td>\n",
       "      <td>0.000000</td>\n",
       "      <td>NaN</td>\n",
       "      <td>-3.400000</td>\n",
       "      <td>92.201000</td>\n",
       "      <td>-50.800000</td>\n",
       "      <td>0.634000</td>\n",
       "      <td>4963.600000</td>\n",
       "      <td>NaN</td>\n",
       "    </tr>\n",
       "    <tr>\n",
       "      <th>25%</th>\n",
       "      <td>32.00000</td>\n",
       "      <td>NaN</td>\n",
       "      <td>NaN</td>\n",
       "      <td>NaN</td>\n",
       "      <td>NaN</td>\n",
       "      <td>NaN</td>\n",
       "      <td>NaN</td>\n",
       "      <td>NaN</td>\n",
       "      <td>NaN</td>\n",
       "      <td>NaN</td>\n",
       "      <td>...</td>\n",
       "      <td>1.000000</td>\n",
       "      <td>999.000000</td>\n",
       "      <td>0.000000</td>\n",
       "      <td>NaN</td>\n",
       "      <td>-1.800000</td>\n",
       "      <td>93.075000</td>\n",
       "      <td>-42.700000</td>\n",
       "      <td>1.344000</td>\n",
       "      <td>5099.100000</td>\n",
       "      <td>NaN</td>\n",
       "    </tr>\n",
       "    <tr>\n",
       "      <th>50%</th>\n",
       "      <td>38.00000</td>\n",
       "      <td>NaN</td>\n",
       "      <td>NaN</td>\n",
       "      <td>NaN</td>\n",
       "      <td>NaN</td>\n",
       "      <td>NaN</td>\n",
       "      <td>NaN</td>\n",
       "      <td>NaN</td>\n",
       "      <td>NaN</td>\n",
       "      <td>NaN</td>\n",
       "      <td>...</td>\n",
       "      <td>2.000000</td>\n",
       "      <td>999.000000</td>\n",
       "      <td>0.000000</td>\n",
       "      <td>NaN</td>\n",
       "      <td>1.100000</td>\n",
       "      <td>93.749000</td>\n",
       "      <td>-41.800000</td>\n",
       "      <td>4.857000</td>\n",
       "      <td>5191.000000</td>\n",
       "      <td>NaN</td>\n",
       "    </tr>\n",
       "    <tr>\n",
       "      <th>75%</th>\n",
       "      <td>47.00000</td>\n",
       "      <td>NaN</td>\n",
       "      <td>NaN</td>\n",
       "      <td>NaN</td>\n",
       "      <td>NaN</td>\n",
       "      <td>NaN</td>\n",
       "      <td>NaN</td>\n",
       "      <td>NaN</td>\n",
       "      <td>NaN</td>\n",
       "      <td>NaN</td>\n",
       "      <td>...</td>\n",
       "      <td>3.000000</td>\n",
       "      <td>999.000000</td>\n",
       "      <td>0.000000</td>\n",
       "      <td>NaN</td>\n",
       "      <td>1.400000</td>\n",
       "      <td>93.994000</td>\n",
       "      <td>-36.400000</td>\n",
       "      <td>4.961000</td>\n",
       "      <td>5228.100000</td>\n",
       "      <td>NaN</td>\n",
       "    </tr>\n",
       "    <tr>\n",
       "      <th>max</th>\n",
       "      <td>98.00000</td>\n",
       "      <td>NaN</td>\n",
       "      <td>NaN</td>\n",
       "      <td>NaN</td>\n",
       "      <td>NaN</td>\n",
       "      <td>NaN</td>\n",
       "      <td>NaN</td>\n",
       "      <td>NaN</td>\n",
       "      <td>NaN</td>\n",
       "      <td>NaN</td>\n",
       "      <td>...</td>\n",
       "      <td>56.000000</td>\n",
       "      <td>999.000000</td>\n",
       "      <td>7.000000</td>\n",
       "      <td>NaN</td>\n",
       "      <td>1.400000</td>\n",
       "      <td>94.767000</td>\n",
       "      <td>-26.900000</td>\n",
       "      <td>5.045000</td>\n",
       "      <td>5228.100000</td>\n",
       "      <td>NaN</td>\n",
       "    </tr>\n",
       "  </tbody>\n",
       "</table>\n",
       "<p>11 rows × 21 columns</p>\n",
       "</div>"
      ],
      "text/plain": [
       "                age     job  marital          education credit_default  \\\n",
       "count   41188.00000   41188    41188              41188          41188   \n",
       "unique          NaN      12        4                  8              3   \n",
       "top             NaN  admin.  married  university.degree             no   \n",
       "freq            NaN   10422    24928              12168          32588   \n",
       "mean       40.02406     NaN      NaN                NaN            NaN   \n",
       "std        10.42125     NaN      NaN                NaN            NaN   \n",
       "min        17.00000     NaN      NaN                NaN            NaN   \n",
       "25%        32.00000     NaN      NaN                NaN            NaN   \n",
       "50%        38.00000     NaN      NaN                NaN            NaN   \n",
       "75%        47.00000     NaN      NaN                NaN            NaN   \n",
       "max        98.00000     NaN      NaN                NaN            NaN   \n",
       "\n",
       "       housing   loan   contact contacted_month day_of_week  ...  \\\n",
       "count    41188  41188     41188           41188       41188  ...   \n",
       "unique       3      3         2              10           5  ...   \n",
       "top        yes     no  cellular             may         thu  ...   \n",
       "freq     21576  33950     26144           13769        8623  ...   \n",
       "mean       NaN    NaN       NaN             NaN         NaN  ...   \n",
       "std        NaN    NaN       NaN             NaN         NaN  ...   \n",
       "min        NaN    NaN       NaN             NaN         NaN  ...   \n",
       "25%        NaN    NaN       NaN             NaN         NaN  ...   \n",
       "50%        NaN    NaN       NaN             NaN         NaN  ...   \n",
       "75%        NaN    NaN       NaN             NaN         NaN  ...   \n",
       "max        NaN    NaN       NaN             NaN         NaN  ...   \n",
       "\n",
       "            compaign         pdays      previous     poutcome  emp_var_rate  \\\n",
       "count   41188.000000  41188.000000  41188.000000        41188  41188.000000   \n",
       "unique           NaN           NaN           NaN            3           NaN   \n",
       "top              NaN           NaN           NaN  nonexistent           NaN   \n",
       "freq             NaN           NaN           NaN        35563           NaN   \n",
       "mean        2.567593    962.475454      0.172963          NaN      0.081886   \n",
       "std         2.770014    186.910907      0.494901          NaN      1.570960   \n",
       "min         1.000000      0.000000      0.000000          NaN     -3.400000   \n",
       "25%         1.000000    999.000000      0.000000          NaN     -1.800000   \n",
       "50%         2.000000    999.000000      0.000000          NaN      1.100000   \n",
       "75%         3.000000    999.000000      0.000000          NaN      1.400000   \n",
       "max        56.000000    999.000000      7.000000          NaN      1.400000   \n",
       "\n",
       "        cons_price_idx  cons_conf_idx     euribor3m  nr_employees      y  \n",
       "count     41188.000000   41188.000000  41188.000000  41188.000000  41188  \n",
       "unique             NaN            NaN           NaN           NaN      2  \n",
       "top                NaN            NaN           NaN           NaN     no  \n",
       "freq               NaN            NaN           NaN           NaN  36548  \n",
       "mean         93.575664     -40.502600      3.621291   5167.035911    NaN  \n",
       "std           0.578840       4.628198      1.734447     72.251528    NaN  \n",
       "min          92.201000     -50.800000      0.634000   4963.600000    NaN  \n",
       "25%          93.075000     -42.700000      1.344000   5099.100000    NaN  \n",
       "50%          93.749000     -41.800000      4.857000   5191.000000    NaN  \n",
       "75%          93.994000     -36.400000      4.961000   5228.100000    NaN  \n",
       "max          94.767000     -26.900000      5.045000   5228.100000    NaN  \n",
       "\n",
       "[11 rows x 21 columns]"
      ]
     },
     "execution_count": 14,
     "metadata": {},
     "output_type": "execute_result"
    }
   ],
   "source": [
    "data.describe(include='all')"
   ]
  },
  {
   "cell_type": "markdown",
   "metadata": {
    "id": "p6Glu37TX9ws"
   },
   "source": [
    "#### Handling of missing data"
   ]
  },
  {
   "cell_type": "code",
   "execution_count": 15,
   "metadata": {
    "id": "WL597F3GX9ws",
    "outputId": "5c8c2d5d-a11a-4312-e55f-934cb19f35da"
   },
   "outputs": [
    {
     "data": {
      "text/plain": [
       "age                0\n",
       "job                0\n",
       "marital            0\n",
       "education          0\n",
       "credit_default     0\n",
       "housing            0\n",
       "loan               0\n",
       "contact            0\n",
       "contacted_month    0\n",
       "day_of_week        0\n",
       "duration           0\n",
       "compaign           0\n",
       "pdays              0\n",
       "previous           0\n",
       "poutcome           0\n",
       "emp_var_rate       0\n",
       "cons_price_idx     0\n",
       "cons_conf_idx      0\n",
       "euribor3m          0\n",
       "nr_employees       0\n",
       "y                  0\n",
       "dtype: int64"
      ]
     },
     "execution_count": 15,
     "metadata": {},
     "output_type": "execute_result"
    }
   ],
   "source": [
    "data.isnull().sum()"
   ]
  },
  {
   "cell_type": "markdown",
   "metadata": {
    "id": "GrSU8dJlX9wt"
   },
   "source": [
    "#### Categorial attributes distribution"
   ]
  },
  {
   "cell_type": "code",
   "execution_count": 16,
   "metadata": {
    "id": "xV5Mp_FEX9wv",
    "outputId": "3074fca5-65d7-4bfa-a27d-0fa702feb24f"
   },
   "outputs": [
    {
     "name": "stdout",
     "output_type": "stream",
     "text": [
      "job\n",
      "admin.           10422\n",
      "blue-collar       9254\n",
      "technician        6743\n",
      "services          3969\n",
      "management        2924\n",
      "retired           1720\n",
      "entrepreneur      1456\n",
      "self-employed     1421\n",
      "housemaid         1060\n",
      "unemployed        1014\n",
      "student            875\n",
      "unknown            330\n",
      "Name: job, dtype: int64 \n",
      "\n",
      "marital\n",
      "married     24928\n",
      "single      11568\n",
      "divorced     4612\n",
      "unknown        80\n",
      "Name: marital, dtype: int64 \n",
      "\n",
      "education\n",
      "university.degree      12168\n",
      "high.school             9515\n",
      "basic.9y                6045\n",
      "professional.course     5243\n",
      "basic.4y                4176\n",
      "basic.6y                2292\n",
      "unknown                 1731\n",
      "illiterate                18\n",
      "Name: education, dtype: int64 \n",
      "\n",
      "credit_default\n",
      "no         32588\n",
      "unknown     8597\n",
      "yes            3\n",
      "Name: credit_default, dtype: int64 \n",
      "\n",
      "housing\n",
      "yes        21576\n",
      "no         18622\n",
      "unknown      990\n",
      "Name: housing, dtype: int64 \n",
      "\n",
      "loan\n",
      "no         33950\n",
      "yes         6248\n",
      "unknown      990\n",
      "Name: loan, dtype: int64 \n",
      "\n",
      "contact\n",
      "cellular     26144\n",
      "telephone    15044\n",
      "Name: contact, dtype: int64 \n",
      "\n",
      "contacted_month\n",
      "may    13769\n",
      "jul     7174\n",
      "aug     6178\n",
      "jun     5318\n",
      "nov     4101\n",
      "apr     2632\n",
      "oct      718\n",
      "sep      570\n",
      "mar      546\n",
      "dec      182\n",
      "Name: contacted_month, dtype: int64 \n",
      "\n",
      "day_of_week\n",
      "thu    8623\n",
      "mon    8514\n",
      "wed    8134\n",
      "tue    8090\n",
      "fri    7827\n",
      "Name: day_of_week, dtype: int64 \n",
      "\n",
      "poutcome\n",
      "nonexistent    35563\n",
      "failure         4252\n",
      "success         1373\n",
      "Name: poutcome, dtype: int64 \n",
      "\n",
      "y\n",
      "no     36548\n",
      "yes     4640\n",
      "Name: y, dtype: int64 \n",
      "\n"
     ]
    }
   ],
   "source": [
    "for attr in cat_Attr_Names:\n",
    "    print(attr)\n",
    "    print(data[attr].value_counts(), '\\n')"
   ]
  },
  {
   "cell_type": "code",
   "execution_count": 17,
   "metadata": {
    "id": "AgY1CFS0X9w5",
    "outputId": "5a2fa9ac-cbc4-4e7f-8703-e99726e37c10"
   },
   "outputs": [
    {
     "data": {
      "text/plain": [
       "no     88.734583\n",
       "yes    11.265417\n",
       "Name: y, dtype: float64"
      ]
     },
     "execution_count": 17,
     "metadata": {},
     "output_type": "execute_result"
    }
   ],
   "source": [
    "pd.value_counts(data['y'])/data['y'].count() * 100"
   ]
  },
  {
   "cell_type": "markdown",
   "metadata": {
    "id": "ClOQKzWxX9w7"
   },
   "source": [
    "### Train-Test Split\n",
    "\n",
    "Using sklearn.model_selection.train_test_split\n",
    "\n",
    "    Split the data into train and test subsets"
   ]
  },
  {
   "cell_type": "code",
   "execution_count": 18,
   "metadata": {
    "id": "-8KEtdN_X9w7"
   },
   "outputs": [],
   "source": [
    "X = data.drop()\n",
    "y = data['y']\n",
    "\n",
    "cat_Attr_Names = list(set(cat_Attr_Names) - set('y'))\n",
    "\n",
    "X_train, X_test, y_train, y_test = train_test_split(X, y, test_size=0.3, random_state=123)"
   ]
  },
  {
   "cell_type": "code",
   "execution_count": 19,
   "metadata": {
    "id": "Ei53LF7_X9w8",
    "outputId": "482ee013-b9d9-42b1-9cc3-df8317ba1781"
   },
   "outputs": [
    {
     "name": "stdout",
     "output_type": "stream",
     "text": [
      "(28831, 20)\n",
      "(12357, 20)\n"
     ]
    }
   ],
   "source": [
    "print(X_train.shape)\n",
    "print(X_test.shape)"
   ]
  },
  {
   "cell_type": "markdown",
   "metadata": {
    "id": "lUAY-SoPX9xF"
   },
   "source": [
    "#### Standardize Numeric Attributes:"
   ]
  },
  {
   "cell_type": "code",
   "execution_count": 20,
   "metadata": {
    "id": "X0cDVTBYX9xG"
   },
   "outputs": [],
   "source": [
    "scaler = StandardScaler()\n",
    "scaler.fit(X_train[num_Attr_Names])\n",
    "\n",
    "X_train_num = pd.DataFrame(scaler.transform(X_train[num_Attr_Names]), columns=num_Attr_Names)\n",
    "X_test_num = pd.DataFrame(scaler.transform(X_test[num_Attr_Names]), columns=num_Attr_Names)"
   ]
  },
  {
   "cell_type": "markdown",
   "metadata": {
    "id": "bpQkmux9X9xI"
   },
   "source": [
    "#### OneHotEncode Categorial Attributes:"
   ]
  },
  {
   "cell_type": "code",
   "execution_count": 21,
   "metadata": {
    "id": "rEd2mgjjX9xJ"
   },
   "outputs": [],
   "source": [
    "ohe = OneHotEncoder(handle_unknown='ignore')\n",
    "ohe.fit(X_train[cat_Attr_Names])\n",
    "\n",
    "columns_ohe = list(ohe.get_feature_names(cat_Attr_Names))\n",
    "\n",
    "X_train_cat = \n",
    "X_test_cat = \n",
    "\n",
    "X_train_cat = \n",
    "X_test_cat = "
   ]
  },
  {
   "cell_type": "code",
   "execution_count": 22,
   "metadata": {
    "id": "FgaeBhH1X9xJ",
    "scrolled": true
   },
   "outputs": [],
   "source": [
    "X_train = \n",
    "X_test = "
   ]
  },
  {
   "cell_type": "code",
   "execution_count": 23,
   "metadata": {
    "id": "kPC1tweIX9xN",
    "outputId": "62ebf964-935e-4f55-fc97-8975a608462a"
   },
   "outputs": [
    {
     "data": {
      "text/plain": [
       "(28831, 63)"
      ]
     },
     "execution_count": 23,
     "metadata": {},
     "output_type": "execute_result"
    }
   ],
   "source": [
    "X_train.shape"
   ]
  },
  {
   "cell_type": "code",
   "execution_count": 24,
   "metadata": {
    "id": "KSK_SLwNX9xR",
    "outputId": "72d6f7a8-c1f2-4df6-a9cf-de419778cd1c"
   },
   "outputs": [
    {
     "data": {
      "text/plain": [
       "Index(['age', 'euribor3m', 'cons_price_idx', 'duration', 'pdays', 'compaign',\n",
       "       'cons_conf_idx', 'nr_employees', 'emp_var_rate', 'previous',\n",
       "       'day_of_week_fri', 'day_of_week_mon', 'day_of_week_thu',\n",
       "       'day_of_week_tue', 'day_of_week_wed', 'contact_cellular',\n",
       "       'contact_telephone', 'housing_no', 'housing_unknown', 'housing_yes',\n",
       "       'marital_divorced', 'marital_married', 'marital_single',\n",
       "       'marital_unknown', 'contacted_month_apr', 'contacted_month_aug',\n",
       "       'contacted_month_dec', 'contacted_month_jul', 'contacted_month_jun',\n",
       "       'contacted_month_mar', 'contacted_month_may', 'contacted_month_nov',\n",
       "       'contacted_month_oct', 'contacted_month_sep', 'poutcome_failure',\n",
       "       'poutcome_nonexistent', 'poutcome_success', 'education_basic.4y',\n",
       "       'education_basic.6y', 'education_basic.9y', 'education_high.school',\n",
       "       'education_illiterate', 'education_professional.course',\n",
       "       'education_university.degree', 'education_unknown', 'credit_default_no',\n",
       "       'credit_default_unknown', 'credit_default_yes', 'job_admin.',\n",
       "       'job_blue-collar', 'job_entrepreneur', 'job_housemaid',\n",
       "       'job_management', 'job_retired', 'job_self-employed', 'job_services',\n",
       "       'job_student', 'job_technician', 'job_unemployed', 'job_unknown',\n",
       "       'loan_no', 'loan_unknown', 'loan_yes'],\n",
       "      dtype='object')"
      ]
     },
     "execution_count": 24,
     "metadata": {},
     "output_type": "execute_result"
    }
   ],
   "source": [
    "new_Ind_Attr_Names = X_train.columns\n",
    "new_Ind_Attr_Names"
   ]
  },
  {
   "cell_type": "code",
   "execution_count": 25,
   "metadata": {
    "id": "-lq_yJKYX9xS",
    "outputId": "4b902d64-04ea-4661-96f8-ef9a63c28b67"
   },
   "outputs": [
    {
     "data": {
      "text/html": [
       "<div>\n",
       "<style scoped>\n",
       "    .dataframe tbody tr th:only-of-type {\n",
       "        vertical-align: middle;\n",
       "    }\n",
       "\n",
       "    .dataframe tbody tr th {\n",
       "        vertical-align: top;\n",
       "    }\n",
       "\n",
       "    .dataframe thead th {\n",
       "        text-align: right;\n",
       "    }\n",
       "</style>\n",
       "<table border=\"1\" class=\"dataframe\">\n",
       "  <thead>\n",
       "    <tr style=\"text-align: right;\">\n",
       "      <th></th>\n",
       "      <th>age</th>\n",
       "      <th>euribor3m</th>\n",
       "      <th>cons_price_idx</th>\n",
       "      <th>duration</th>\n",
       "      <th>pdays</th>\n",
       "      <th>compaign</th>\n",
       "      <th>cons_conf_idx</th>\n",
       "      <th>nr_employees</th>\n",
       "      <th>emp_var_rate</th>\n",
       "      <th>previous</th>\n",
       "      <th>...</th>\n",
       "      <th>job_retired</th>\n",
       "      <th>job_self-employed</th>\n",
       "      <th>job_services</th>\n",
       "      <th>job_student</th>\n",
       "      <th>job_technician</th>\n",
       "      <th>job_unemployed</th>\n",
       "      <th>job_unknown</th>\n",
       "      <th>loan_no</th>\n",
       "      <th>loan_unknown</th>\n",
       "      <th>loan_yes</th>\n",
       "    </tr>\n",
       "  </thead>\n",
       "  <tbody>\n",
       "    <tr>\n",
       "      <th>0</th>\n",
       "      <td>0.479897</td>\n",
       "      <td>0.703768</td>\n",
       "      <td>0.716223</td>\n",
       "      <td>0.233079</td>\n",
       "      <td>0.195559</td>\n",
       "      <td>-0.573111</td>\n",
       "      <td>0.879444</td>\n",
       "      <td>0.324164</td>\n",
       "      <td>0.640729</td>\n",
       "      <td>-0.348328</td>\n",
       "      <td>...</td>\n",
       "      <td>0.0</td>\n",
       "      <td>0.0</td>\n",
       "      <td>0.0</td>\n",
       "      <td>0.0</td>\n",
       "      <td>0.0</td>\n",
       "      <td>0.0</td>\n",
       "      <td>0.0</td>\n",
       "      <td>1.0</td>\n",
       "      <td>0.0</td>\n",
       "      <td>0.0</td>\n",
       "    </tr>\n",
       "    <tr>\n",
       "      <th>1</th>\n",
       "      <td>-1.058517</td>\n",
       "      <td>0.767418</td>\n",
       "      <td>-0.233354</td>\n",
       "      <td>7.050209</td>\n",
       "      <td>0.195559</td>\n",
       "      <td>1.268589</td>\n",
       "      <td>0.944309</td>\n",
       "      <td>0.840284</td>\n",
       "      <td>0.832074</td>\n",
       "      <td>-0.348328</td>\n",
       "      <td>...</td>\n",
       "      <td>0.0</td>\n",
       "      <td>0.0</td>\n",
       "      <td>1.0</td>\n",
       "      <td>0.0</td>\n",
       "      <td>0.0</td>\n",
       "      <td>0.0</td>\n",
       "      <td>0.0</td>\n",
       "      <td>1.0</td>\n",
       "      <td>0.0</td>\n",
       "      <td>0.0</td>\n",
       "    </tr>\n",
       "    <tr>\n",
       "      <th>2</th>\n",
       "      <td>0.576048</td>\n",
       "      <td>0.706082</td>\n",
       "      <td>0.716223</td>\n",
       "      <td>-0.475595</td>\n",
       "      <td>0.195559</td>\n",
       "      <td>0.163569</td>\n",
       "      <td>0.879444</td>\n",
       "      <td>0.324164</td>\n",
       "      <td>0.640729</td>\n",
       "      <td>-0.348328</td>\n",
       "      <td>...</td>\n",
       "      <td>0.0</td>\n",
       "      <td>0.0</td>\n",
       "      <td>0.0</td>\n",
       "      <td>0.0</td>\n",
       "      <td>0.0</td>\n",
       "      <td>1.0</td>\n",
       "      <td>0.0</td>\n",
       "      <td>1.0</td>\n",
       "      <td>0.0</td>\n",
       "      <td>0.0</td>\n",
       "    </tr>\n",
       "    <tr>\n",
       "      <th>3</th>\n",
       "      <td>-0.289310</td>\n",
       "      <td>0.704346</td>\n",
       "      <td>0.716223</td>\n",
       "      <td>0.999524</td>\n",
       "      <td>0.195559</td>\n",
       "      <td>-0.573111</td>\n",
       "      <td>0.879444</td>\n",
       "      <td>0.324164</td>\n",
       "      <td>0.640729</td>\n",
       "      <td>-0.348328</td>\n",
       "      <td>...</td>\n",
       "      <td>0.0</td>\n",
       "      <td>0.0</td>\n",
       "      <td>1.0</td>\n",
       "      <td>0.0</td>\n",
       "      <td>0.0</td>\n",
       "      <td>0.0</td>\n",
       "      <td>0.0</td>\n",
       "      <td>1.0</td>\n",
       "      <td>0.0</td>\n",
       "      <td>0.0</td>\n",
       "    </tr>\n",
       "    <tr>\n",
       "      <th>4</th>\n",
       "      <td>1.345255</td>\n",
       "      <td>0.705504</td>\n",
       "      <td>0.716223</td>\n",
       "      <td>-0.356199</td>\n",
       "      <td>0.195559</td>\n",
       "      <td>0.163569</td>\n",
       "      <td>0.879444</td>\n",
       "      <td>0.324164</td>\n",
       "      <td>0.640729</td>\n",
       "      <td>-0.348328</td>\n",
       "      <td>...</td>\n",
       "      <td>0.0</td>\n",
       "      <td>0.0</td>\n",
       "      <td>0.0</td>\n",
       "      <td>0.0</td>\n",
       "      <td>0.0</td>\n",
       "      <td>0.0</td>\n",
       "      <td>0.0</td>\n",
       "      <td>1.0</td>\n",
       "      <td>0.0</td>\n",
       "      <td>0.0</td>\n",
       "    </tr>\n",
       "  </tbody>\n",
       "</table>\n",
       "<p>5 rows × 63 columns</p>\n",
       "</div>"
      ],
      "text/plain": [
       "        age  euribor3m  cons_price_idx  duration     pdays  compaign  \\\n",
       "0  0.479897   0.703768        0.716223  0.233079  0.195559 -0.573111   \n",
       "1 -1.058517   0.767418       -0.233354  7.050209  0.195559  1.268589   \n",
       "2  0.576048   0.706082        0.716223 -0.475595  0.195559  0.163569   \n",
       "3 -0.289310   0.704346        0.716223  0.999524  0.195559 -0.573111   \n",
       "4  1.345255   0.705504        0.716223 -0.356199  0.195559  0.163569   \n",
       "\n",
       "   cons_conf_idx  nr_employees  emp_var_rate  previous  ...  job_retired  \\\n",
       "0       0.879444      0.324164      0.640729 -0.348328  ...          0.0   \n",
       "1       0.944309      0.840284      0.832074 -0.348328  ...          0.0   \n",
       "2       0.879444      0.324164      0.640729 -0.348328  ...          0.0   \n",
       "3       0.879444      0.324164      0.640729 -0.348328  ...          0.0   \n",
       "4       0.879444      0.324164      0.640729 -0.348328  ...          0.0   \n",
       "\n",
       "   job_self-employed  job_services  job_student  job_technician  \\\n",
       "0                0.0           0.0          0.0             0.0   \n",
       "1                0.0           1.0          0.0             0.0   \n",
       "2                0.0           0.0          0.0             0.0   \n",
       "3                0.0           1.0          0.0             0.0   \n",
       "4                0.0           0.0          0.0             0.0   \n",
       "\n",
       "   job_unemployed  job_unknown  loan_no  loan_unknown  loan_yes  \n",
       "0             0.0          0.0      1.0           0.0       0.0  \n",
       "1             0.0          0.0      1.0           0.0       0.0  \n",
       "2             1.0          0.0      1.0           0.0       0.0  \n",
       "3             0.0          0.0      1.0           0.0       0.0  \n",
       "4             0.0          0.0      1.0           0.0       0.0  \n",
       "\n",
       "[5 rows x 63 columns]"
      ]
     },
     "execution_count": 25,
     "metadata": {},
     "output_type": "execute_result"
    }
   ],
   "source": [
    "X_train.head()"
   ]
  },
  {
   "cell_type": "markdown",
   "metadata": {
    "id": "NVxUwhT4X9xS"
   },
   "source": [
    "#### Using LabelEncoder to convert target attribute 'y' to Numerical"
   ]
  },
  {
   "cell_type": "code",
   "execution_count": 26,
   "metadata": {
    "id": "DnSR7h__X9xS"
   },
   "outputs": [],
   "source": [
    "le = LabelEncoder()\n",
    "\n",
    "y_train = le.fit_transform(y_train)\n",
    "y_test = le.transform(y_test)"
   ]
  },
  {
   "cell_type": "markdown",
   "metadata": {
    "id": "PoD9qOqEX9xT"
   },
   "source": [
    "#### Target attribute distribution"
   ]
  },
  {
   "cell_type": "code",
   "execution_count": 27,
   "metadata": {
    "id": "FJsGw825X9xU",
    "outputId": "680f4c57-61cd-4c7f-ff50-44ef80fb8182"
   },
   "outputs": [
    {
     "name": "stdout",
     "output_type": "stream",
     "text": [
      "0    25587\n",
      "1     3244\n",
      "dtype: int64\n",
      "0    10961\n",
      "1     1396\n",
      "dtype: int64\n"
     ]
    }
   ],
   "source": [
    "print(pd.value_counts(y_train))\n",
    "print(pd.value_counts(y_test))"
   ]
  },
  {
   "cell_type": "markdown",
   "metadata": {
    "id": "NZEyixe0X9xV"
   },
   "source": [
    "## Model Building"
   ]
  },
  {
   "cell_type": "code",
   "execution_count": 28,
   "metadata": {
    "id": "-7SIZBkvX9xX"
   },
   "outputs": [],
   "source": [
    "def build_Cls_Model(model, hyp_Params=None, X_train=X_train, X_test=X_test, y_train=y_train, y_test=y_test):\n",
    "\n",
    "    if hyp_Params != None:     \n",
    "        \n",
    "        model_Grid = GridSearchCV(model, param_grid=hyp_Params, cv=3)\n",
    "        model_Grid.fit(X_train, y_train)\n",
    "        \n",
    "        print(f\"The best parameters are {model_Grid.best_params_}\")\n",
    "        model = model_Grid.best_estimator_\n",
    "    else: \n",
    "        model.fit(X_train, y_train)\n",
    "    \n",
    "    y_train_Pred = model.predict(X_train)\n",
    "    y_test_Pred = model.predict(X_test)\n",
    "\n",
    "    print('========Train=======')\n",
    "    print(f\"Confusion Matrix \\n{confusion_matrix(y_train, y_train_Pred)}\")\n",
    "    print(f\"Accuracy \\n{accuracy_score(y_test, y_test_Pred)}\")\n",
    "\n",
    "    print('========Test=======')\n",
    "    print(f\"Confusion Matrix \\n{confusion_matrix(y_test, y_test_Pred)}\")\n",
    "    print(f\"Accuracy \\n{accuracy_score(y_test, y_test_Pred)}\")\n",
    "  \n",
    "    return model"
   ]
  },
  {
   "cell_type": "markdown",
   "metadata": {
    "id": "N2zXzS4IX9xX"
   },
   "source": [
    "### Logistic Regression"
   ]
  },
  {
   "cell_type": "code",
   "execution_count": 29,
   "metadata": {
    "id": "ZqdUlBttX9xa",
    "outputId": "0f7e5fff-d205-4a5d-a0b5-0d87383e18b1"
   },
   "outputs": [
    {
     "name": "stdout",
     "output_type": "stream",
     "text": [
      "The best parameters are {'penalty': 'l2'}\n",
      "========Train=======\n",
      "Confusion Matrix \n",
      "[[24888   699]\n",
      " [ 1867  1377]]\n",
      "Accuracy \n",
      "0.9122764425022255\n",
      "========Test=======\n",
      "Confusion Matrix \n",
      "[[10675   286]\n",
      " [  798   598]]\n",
      "Accuracy \n",
      "0.9122764425022255\n"
     ]
    }
   ],
   "source": [
    "lr_Cls_Model = build_Cls_Model(LogisticRegression(solver='liblinear'),\n",
    "                               {'penalty': ['l1', 'l2']})"
   ]
  },
  {
   "cell_type": "markdown",
   "metadata": {
    "id": "jcJ0jrKTX9xc"
   },
   "source": [
    "### Support Vector Classifier (SVC)"
   ]
  },
  {
   "cell_type": "code",
   "execution_count": 30,
   "metadata": {
    "id": "H6iw1q8mX9xd",
    "outputId": "1a4e0244-a34d-440a-b421-b16878d26ab8"
   },
   "outputs": [
    {
     "name": "stdout",
     "output_type": "stream",
     "text": [
      "The best parameters are {'C': 50, 'gamma': 0.008, 'kernel': 'rbf'}\n",
      "========Train=======\n",
      "Confusion Matrix \n",
      "[[25062   525]\n",
      " [ 1669  1575]]\n",
      "Accuracy \n",
      "0.9141377356963665\n",
      "========Test=======\n",
      "Confusion Matrix \n",
      "[[10665   296]\n",
      " [  765   631]]\n",
      "Accuracy \n",
      "0.9141377356963665\n"
     ]
    }
   ],
   "source": [
    "svc_Cls_Model = build_Cls_Model(SVC(),\n",
    "                                {'C': [50, 90], \n",
    "                                 'gamma': [0.008, 0.001], \n",
    "                                 'kernel':['rbf']})"
   ]
  },
  {
   "cell_type": "markdown",
   "metadata": {
    "id": "vsjRcXXSX9xd"
   },
   "source": [
    "### Decision Tree Classifier"
   ]
  },
  {
   "cell_type": "code",
   "execution_count": 31,
   "metadata": {
    "id": "mRRUAT2NX9xe",
    "outputId": "d156691f-be35-4266-8526-cf3537046bb2"
   },
   "outputs": [
    {
     "name": "stdout",
     "output_type": "stream",
     "text": [
      "The best parameters are {'criterion': 'entropy', 'max_depth': 6, 'max_features': 'log2'}\n",
      "========Train=======\n",
      "Confusion Matrix \n",
      "[[25107   480]\n",
      " [ 2452   792]]\n",
      "Accuracy \n",
      "0.8981144290685441\n",
      "========Test=======\n",
      "Confusion Matrix \n",
      "[[10749   212]\n",
      " [ 1047   349]]\n",
      "Accuracy \n",
      "0.8981144290685441\n"
     ]
    }
   ],
   "source": [
    "dtc_Cls_Model = build_Cls_Model(DecisionTreeClassifier(),\n",
    "                                {'criterion': ['gini', 'entropy'], \n",
    "                                 'max_depth': [6, 8, 10, 12], \n",
    "                                 'max_features':['log2']})"
   ]
  },
  {
   "cell_type": "markdown",
   "metadata": {
    "id": "7mFfdm48X9xl"
   },
   "source": [
    "### Random Forest Classifier"
   ]
  },
  {
   "cell_type": "code",
   "execution_count": 32,
   "metadata": {
    "id": "G2Ig4tNmX9xm",
    "outputId": "acb8fadf-7150-49a4-e6f8-cdfd7dd1595a"
   },
   "outputs": [
    {
     "name": "stdout",
     "output_type": "stream",
     "text": [
      "The best parameters are {'max_depth': 10, 'max_features': 7, 'min_samples_leaf': 4, 'n_estimators': 300}\n",
      "========Train=======\n",
      "Confusion Matrix \n",
      "[[25369   218]\n",
      " [ 2081  1163]]\n",
      "Accuracy \n",
      "0.9117908877559278\n",
      "========Test=======\n",
      "Confusion Matrix \n",
      "[[10818   143]\n",
      " [  947   449]]\n",
      "Accuracy \n",
      "0.9117908877559278\n"
     ]
    }
   ],
   "source": [
    "rfc_Cls_Model = build_Cls_Model(RandomForestClassifier(),\n",
    "                                {\"n_estimators\" : [150, 250, 300],\n",
    "                                 \"max_depth\" : [5, 8, 10],\n",
    "                                 \"max_features\" : [3, 5, 7],\n",
    "                                 \"min_samples_leaf\" : [4, 6, 8, 10]})"
   ]
  },
  {
   "cell_type": "markdown",
   "metadata": {
    "id": "ZzADByk5X9xm"
   },
   "source": [
    "### AdaBoost Classifier"
   ]
  },
  {
   "cell_type": "code",
   "execution_count": 33,
   "metadata": {
    "id": "N-NvSG5wX9xm",
    "outputId": "81e00584-574d-4d8b-a678-8993fdf31920"
   },
   "outputs": [
    {
     "name": "stdout",
     "output_type": "stream",
     "text": [
      "The best parameters are {'learning_rate': 0.5, 'n_estimators': 60}\n",
      "========Train=======\n",
      "Confusion Matrix \n",
      "[[25587     0]\n",
      " [    0  3244]]\n",
      "Accuracy \n",
      "0.9053977502630088\n",
      "========Test=======\n",
      "Confusion Matrix \n",
      "[[10478   483]\n",
      " [  686   710]]\n",
      "Accuracy \n",
      "0.9053977502630088\n"
     ]
    }
   ],
   "source": [
    "abc_Cls_Model = build_Cls_Model(AdaBoostClassifier(base_estimator=DecisionTreeClassifier(criterion='gini', \n",
    "                                                                                         max_depth=10)),\n",
    "                                {'n_estimators': [20, 40, 60], \n",
    "                                'learning_rate':[0.5, 1.0]})"
   ]
  },
  {
   "cell_type": "markdown",
   "metadata": {
    "id": "TdFLaRJfX9xn"
   },
   "source": [
    "### Gradient Boost Classifier"
   ]
  },
  {
   "cell_type": "code",
   "execution_count": 34,
   "metadata": {
    "id": "4Pc4o9lyX9xn",
    "outputId": "5d4627df-3133-4116-eeb0-0403878ad0ef"
   },
   "outputs": [
    {
     "name": "stdout",
     "output_type": "stream",
     "text": [
      "The best parameters are {'max_depth': 8, 'max_features': 0.3, 'n_estimators': 30, 'subsample': 0.8}\n",
      "========Train=======\n",
      "Confusion Matrix \n",
      "[[25176   411]\n",
      " [ 1055  2189]]\n",
      "Accuracy \n",
      "0.9155943999352594\n",
      "========Test=======\n",
      "Confusion Matrix \n",
      "[[10545   416]\n",
      " [  627   769]]\n",
      "Accuracy \n",
      "0.9155943999352594\n"
     ]
    }
   ],
   "source": [
    "gbc_Cls_Model = build_Cls_Model(GradientBoostingClassifier(),\n",
    "                                {'max_depth': [8, 10, 12, 14], \n",
    "                                 'subsample': [0.8, 0.6,], \n",
    "                                 'max_features':[0.2, 0.3], \n",
    "                                 'n_estimators': [10, 20, 30]})"
   ]
  },
  {
   "cell_type": "markdown",
   "metadata": {
    "id": "ZJ1_56g4X9xn"
   },
   "source": [
    "### XGBoost "
   ]
  },
  {
   "cell_type": "code",
   "execution_count": 35,
   "metadata": {
    "id": "XGsESusUX9xo",
    "outputId": "94634468-c019-4ebc-985c-6746768dd05c"
   },
   "outputs": [
    {
     "name": "stdout",
     "output_type": "stream",
     "text": [
      "[06:28:06] WARNING: C:/Users/Administrator/workspace/xgboost-win64_release_1.5.1/src/learner.cc:1115: Starting in XGBoost 1.3.0, the default evaluation metric used with the objective 'binary:logistic' was changed from 'error' to 'logloss'. Explicitly set eval_metric if you'd like to restore the old behavior.\n",
      "[06:28:06] WARNING: C:/Users/Administrator/workspace/xgboost-win64_release_1.5.1/src/learner.cc:1115: Starting in XGBoost 1.3.0, the default evaluation metric used with the objective 'binary:logistic' was changed from 'error' to 'logloss'. Explicitly set eval_metric if you'd like to restore the old behavior.\n",
      "[06:28:06] WARNING: C:/Users/Administrator/workspace/xgboost-win64_release_1.5.1/src/learner.cc:1115: Starting in XGBoost 1.3.0, the default evaluation metric used with the objective 'binary:logistic' was changed from 'error' to 'logloss'. Explicitly set eval_metric if you'd like to restore the old behavior.\n",
      "[06:28:06] WARNING: C:/Users/Administrator/workspace/xgboost-win64_release_1.5.1/src/learner.cc:1115: Starting in XGBoost 1.3.0, the default evaluation metric used with the objective 'binary:logistic' was changed from 'error' to 'logloss'. Explicitly set eval_metric if you'd like to restore the old behavior.\n",
      "[06:28:06] WARNING: C:/Users/Administrator/workspace/xgboost-win64_release_1.5.1/src/learner.cc:1115: Starting in XGBoost 1.3.0, the default evaluation metric used with the objective 'binary:logistic' was changed from 'error' to 'logloss'. Explicitly set eval_metric if you'd like to restore the old behavior.\n",
      "[06:28:06] WARNING: C:/Users/Administrator/workspace/xgboost-win64_release_1.5.1/src/learner.cc:1115: Starting in XGBoost 1.3.0, the default evaluation metric used with the objective 'binary:logistic' was changed from 'error' to 'logloss'. Explicitly set eval_metric if you'd like to restore the old behavior.\n",
      "[06:28:07] WARNING: C:/Users/Administrator/workspace/xgboost-win64_release_1.5.1/src/learner.cc:1115: Starting in XGBoost 1.3.0, the default evaluation metric used with the objective 'binary:logistic' was changed from 'error' to 'logloss'. Explicitly set eval_metric if you'd like to restore the old behavior.\n",
      "[06:28:07] WARNING: C:/Users/Administrator/workspace/xgboost-win64_release_1.5.1/src/learner.cc:1115: Starting in XGBoost 1.3.0, the default evaluation metric used with the objective 'binary:logistic' was changed from 'error' to 'logloss'. Explicitly set eval_metric if you'd like to restore the old behavior.\n",
      "[06:28:07] WARNING: C:/Users/Administrator/workspace/xgboost-win64_release_1.5.1/src/learner.cc:1115: Starting in XGBoost 1.3.0, the default evaluation metric used with the objective 'binary:logistic' was changed from 'error' to 'logloss'. Explicitly set eval_metric if you'd like to restore the old behavior.\n",
      "[06:28:07] WARNING: C:/Users/Administrator/workspace/xgboost-win64_release_1.5.1/src/learner.cc:1115: Starting in XGBoost 1.3.0, the default evaluation metric used with the objective 'binary:logistic' was changed from 'error' to 'logloss'. Explicitly set eval_metric if you'd like to restore the old behavior.\n",
      "[06:28:07] WARNING: C:/Users/Administrator/workspace/xgboost-win64_release_1.5.1/src/learner.cc:1115: Starting in XGBoost 1.3.0, the default evaluation metric used with the objective 'binary:logistic' was changed from 'error' to 'logloss'. Explicitly set eval_metric if you'd like to restore the old behavior.\n",
      "[06:28:07] WARNING: C:/Users/Administrator/workspace/xgboost-win64_release_1.5.1/src/learner.cc:1115: Starting in XGBoost 1.3.0, the default evaluation metric used with the objective 'binary:logistic' was changed from 'error' to 'logloss'. Explicitly set eval_metric if you'd like to restore the old behavior.\n",
      "[06:28:07] WARNING: C:/Users/Administrator/workspace/xgboost-win64_release_1.5.1/src/learner.cc:1115: Starting in XGBoost 1.3.0, the default evaluation metric used with the objective 'binary:logistic' was changed from 'error' to 'logloss'. Explicitly set eval_metric if you'd like to restore the old behavior.\n",
      "The best parameters are {'learning_rate': 0.1, 'n_estimators': 20, 'subsample': 0.9}\n",
      "========Train=======\n",
      "Confusion Matrix \n",
      "[[24798   789]\n",
      " [ 1328  1916]]\n",
      "Accuracy \n",
      "0.9164036578457554\n",
      "========Test=======\n",
      "Confusion Matrix \n",
      "[[10524   437]\n",
      " [  596   800]]\n",
      "Accuracy \n",
      "0.9164036578457554\n"
     ]
    }
   ],
   "source": [
    "xgbc_Cls_Model = build_Cls_Model(XGBClassifier(),\n",
    "                                 {'learning_rate':[0.1,0.5],\n",
    "                                  'n_estimators': [20], \n",
    "                                  'subsample': [0.3, 0.9]})"
   ]
  },
  {
   "cell_type": "markdown",
   "metadata": {
    "id": "civlWJ-3X9xp"
   },
   "source": [
    "### Best XGB Model"
   ]
  },
  {
   "cell_type": "code",
   "execution_count": 36,
   "metadata": {
    "id": "iEhOD19cX9xp",
    "outputId": "79997a2b-721b-4186-d094-9e8a2e80befc"
   },
   "outputs": [
    {
     "name": "stdout",
     "output_type": "stream",
     "text": [
      "[06:28:08] WARNING: C:/Users/Administrator/workspace/xgboost-win64_release_1.5.1/src/learner.cc:1115: Starting in XGBoost 1.3.0, the default evaluation metric used with the objective 'binary:logistic' was changed from 'error' to 'logloss'. Explicitly set eval_metric if you'd like to restore the old behavior.\n",
      "========Train=======\n",
      "Confusion Matrix \n",
      "[[24798   789]\n",
      " [ 1328  1916]]\n",
      "Accuracy \n",
      "0.9164036578457554\n",
      "========Test=======\n",
      "Confusion Matrix \n",
      "[[10524   437]\n",
      " [  596   800]]\n",
      "Accuracy \n",
      "0.9164036578457554\n"
     ]
    }
   ],
   "source": [
    "best_Cls_Model = build_Cls_Model(XGBClassifier(learning_rate=0.1, n_estimators=20, subsample=0.9))"
   ]
  },
  {
   "cell_type": "code",
   "execution_count": 38,
   "metadata": {},
   "outputs": [
    {
     "name": "stdout",
     "output_type": "stream",
     "text": [
      "The best parameters are {'criterion': 'entropy', 'max_depth': 6, 'max_features': 'log2'}\n",
      "========Train=======\n",
      "Confusion Matrix \n",
      "[[22101  3486]\n",
      " [ 1263  1981]]\n",
      "Accuracy \n",
      "0.8299749130047747\n",
      "========Test=======\n",
      "Confusion Matrix \n",
      "[[9401 1560]\n",
      " [ 541  855]]\n",
      "Accuracy \n",
      "0.8299749130047747\n"
     ]
    }
   ],
   "source": [
    "dtc_Cls_Model_1 = build_Cls_Model(DecisionTreeClassifier(class_weight='balanced'),\n",
    "                                {'criterion': ['gini', 'entropy'], \n",
    "                                 'max_depth': [6, 8, 10, 12], \n",
    "                                 'max_features':['log2']})"
   ]
  },
  {
   "cell_type": "code",
   "execution_count": 39,
   "metadata": {},
   "outputs": [
    {
     "name": "stdout",
     "output_type": "stream",
     "text": [
      "The best parameters are {'learning_rate': 0.5, 'n_estimators': 60}\n",
      "========Train=======\n",
      "Confusion Matrix \n",
      "[[25587     0]\n",
      " [    0  3244]]\n",
      "Accuracy \n",
      "0.9065307113377034\n",
      "========Test=======\n",
      "Confusion Matrix \n",
      "[[10488   473]\n",
      " [  682   714]]\n",
      "Accuracy \n",
      "0.9065307113377034\n"
     ]
    }
   ],
   "source": [
    "abc_Cls_Model_1 = build_Cls_Model(AdaBoostClassifier(base_estimator=DecisionTreeClassifier(criterion='gini', \n",
    "                                                                                         max_depth=10,class_weight='balanced')),\n",
    "                                {'n_estimators': [20, 40, 60], \n",
    "                                'learning_rate':[0.5, 1.0]})"
   ]
  },
  {
   "cell_type": "code",
   "execution_count": null,
   "metadata": {},
   "outputs": [],
   "source": []
  }
 ],
 "metadata": {
  "colab": {
   "collapsed_sections": [
    "Ezqc95dqX9wU",
    "2h9jXId7X9wX",
    "MFjNNzleX9wk",
    "2KZ-698vX9wl",
    "B2nY9Vx1X9wr",
    "p6Glu37TX9ws",
    "GrSU8dJlX9wt",
    "lUAY-SoPX9xF",
    "bpQkmux9X9xI",
    "NVxUwhT4X9xS",
    "PoD9qOqEX9xT"
   ],
   "name": "A_POC_Bank_Application.ipynb",
   "provenance": []
  },
  "kernelspec": {
   "display_name": "Python 3",
   "language": "python",
   "name": "python3"
  },
  "language_info": {
   "codemirror_mode": {
    "name": "ipython",
    "version": 3
   },
   "file_extension": ".py",
   "mimetype": "text/x-python",
   "name": "python",
   "nbconvert_exporter": "python",
   "pygments_lexer": "ipython3",
   "version": "3.8.8"
  },
  "toc": {
   "base_numbering": 1,
   "nav_menu": {},
   "number_sections": false,
   "sideBar": true,
   "skip_h1_title": false,
   "title_cell": "Table of Contents",
   "title_sidebar": "Contents",
   "toc_cell": false,
   "toc_position": {},
   "toc_section_display": true,
   "toc_window_display": false
  }
 },
 "nbformat": 4,
 "nbformat_minor": 1
}
